{
  "nbformat": 4,
  "nbformat_minor": 0,
  "metadata": {
    "colab": {
      "name": "Copy of Copy of PHYTON 1",
      "provenance": [],
      "collapsed_sections": [],
      "authorship_tag": "ABX9TyPoxGV6y39VZiI3x4SSZ2m4",
      "include_colab_link": true
    },
    "kernelspec": {
      "name": "python3",
      "display_name": "Python 3"
    }
  },
  "cells": [
    {
      "cell_type": "markdown",
      "metadata": {
        "id": "view-in-github",
        "colab_type": "text"
      },
      "source": [
        "<a href=\"https://colab.research.google.com/github/Clayton100/Phyton/blob/main/Copy_of_Copy_of_PHYTON_1.ipynb\" target=\"_parent\"><img src=\"https://colab.research.google.com/assets/colab-badge.svg\" alt=\"Open In Colab\"/></a>"
      ]
    },
    {
      "cell_type": "code",
      "metadata": {
        "id": "ECYqljwU_I8d"
      },
      "source": [
        "# Função print             \n",
        "  print (               \"Olá mundo!\"               )              \n",
        "Print (               \"Clayton\"               )"
      ],
      "execution_count": null,
      "outputs": []
    },
    {
      "cell_type": "code",
      "metadata": {
        "id": "k2FcABXEc0tE",
        "outputId": "a0b79270-bf85-4579-f89a-c146b53d4fec",
        "colab": {
          "base_uri": "https://localhost:8080/",
          "height": 34
        }
      },
      "source": [
        "imprimir (    750    +    750    *    3    /    20    )"
      ],
      "execution_count": null,
      "outputs": [
        {
          "output_type": "stream",
          "text": [
            "862.5\n"
          ],
          "name": "stdout"
        }
      ]
    },
    {
      "cell_type": "code",
      "metadata": {
        "id": "sUdtg6HsXX0y",
        "outputId": "f2442b21-cb7b-44bb-ed29-55d53116fac8",
        "colab": {
          "base_uri": "https://localhost:8080/",
          "height": 34
        }
      },
      "source": [
        "A =     3     \n",
        "B =     5    \n",
        "C =    2    * A *   3   * B  \n",
        "impressão (C)"
      ],
      "execution_count": null,
      "outputs": [
        {
          "output_type": "stream",
          "text": [
            "90\n"
          ],
          "name": "stdout"
        }
      ]
    },
    {
      "cell_type": "code",
      "metadata": {
        "id": "kf16dw3hYUai",
        "outputId": "074047b6-0565-4173-9d50-d93936d079ea",
        "colab": {
          "base_uri": "https://localhost:8080/",
          "height": 34
        }
      },
      "source": [
        "X =    4   \n",
        "Y =    6   \n",
        "Z =    7   \n",
        "C = X + Y + Z     \n",
        "impressão (C)"
      ],
      "execution_count": null,
      "outputs": [
        {
          "output_type": "stream",
          "text": [
            "17\n"
          ],
          "name": "stdout"
        }
      ]
    },
    {
      "cell_type": "code",
      "metadata": {
        "id": "_uR1Nav7Aqw9",
        "outputId": "ec85baa6-bdd7-46a6-ac0c-d9f13a1e559d",
        "colab": {
          "base_uri": "https://localhost:8080/",
          "height": 34
        }
      },
      "source": [
        " \n",
        " print ( 1  +  5 )"
      ],
      "execution_count": null,
      "outputs": [
        {
          "output_type": "stream",
          "text": [
            "6\n"
          ],
          "name": "stdout"
        }
      ]
    },
    {
      "cell_type": "code",
      "metadata": {
        "id": "WZXvoYLfEtl8",
        "outputId": "95c00325-b81f-4cf2-8562-57915d869951",
        "colab": {
          "base_uri": "https://localhost:8080/",
          "height": 34
        }
      },
      "source": [
        "# Operação de subtração   \n",
        "10-5"
      ],
      "execution_count": null,
      "outputs": [
        {
          "output_type": "execute_result",
          "data": {
            "text/plain": [
              "5"
            ]
          },
          "metadata": {
            "tags": []
          },
          "execution_count": 27
        }
      ]
    },
    {
      "cell_type": "code",
      "metadata": {
        "id": "6pDfcFz0E_mj",
        "outputId": "9ff47d5e-73fc-4f7d-912f-a1b674bc01b3",
        "colab": {
          "base_uri": "https://localhost:8080/",
          "height": 34
        }
      },
      "source": [
        "# operação de multiplicação utilização-se o  asterisco \n",
        "10 * 7"
      ],
      "execution_count": null,
      "outputs": [
        {
          "output_type": "execute_result",
          "data": {
            "text/plain": [
              "70"
            ]
          },
          "metadata": {
            "tags": []
          },
          "execution_count": 28
        }
      ]
    },
    {
      "cell_type": "code",
      "metadata": {
        "id": "6gKuHkTJFPXO",
        "outputId": "e70d27b3-49be-4945-8348-2b4e0b57a196",
        "colab": {
          "base_uri": "https://localhost:8080/",
          "height": 34
        }
      },
      "source": [
        "# Operação de divisão utiliza-se uma barra \n",
        "1 / 4"
      ],
      "execution_count": null,
      "outputs": [
        {
          "output_type": "execute_result",
          "data": {
            "text/plain": [
              "0.25"
            ]
          },
          "metadata": {
            "tags": []
          },
          "execution_count": 29
        }
      ]
    },
    {
      "cell_type": "code",
      "metadata": {
        "id": "uhnchp2LFhZE",
        "outputId": "0100c767-aea6-4425-d77e-a458d6ece942",
        "colab": {
          "base_uri": "https://localhost:8080/",
          "height": 34
        }
      },
      "source": [
        "# operação de divisão que exiba somente os números  inteiros usar duas barras \n",
        "10 // 4"
      ],
      "execution_count": null,
      "outputs": [
        {
          "output_type": "execute_result",
          "data": {
            "text/plain": [
              "2"
            ]
          },
          "metadata": {
            "tags": []
          },
          "execution_count": 30
        }
      ]
    },
    {
      "cell_type": "code",
      "metadata": {
        "id": "ZBY0yCcRF0Fq",
        "outputId": "b129b237-e278-478c-dcaa-b98e58e51d68",
        "colab": {
          "base_uri": "https://localhost:8080/",
          "height": 34
        }
      },
      "source": [
        "# operação de divisão que exibição somente o resto  da divisão usa-se% \n",
        "10 % 4"
      ],
      "execution_count": null,
      "outputs": [
        {
          "output_type": "execute_result",
          "data": {
            "text/plain": [
              "2"
            ]
          },
          "metadata": {
            "tags": []
          },
          "execution_count": 31
        }
      ]
    },
    {
      "cell_type": "code",
      "metadata": {
        "id": "3aw-f1yYGS60",
        "outputId": "89fa060c-27c4-4fcc-9577-5565158b345d",
        "colab": {
          "base_uri": "https://localhost:8080/",
          "height": 34
        }
      },
      "source": [
        "# operação para potenciação utilizar dois     asteriscos **  \n",
        "10   ** (   2   )"
      ],
      "execution_count": null,
      "outputs": [
        {
          "output_type": "execute_result",
          "data": {
            "text/plain": [
              "100"
            ]
          },
          "metadata": {
            "tags": []
          },
          "execution_count": 32
        }
      ]
    },
    {
      "cell_type": "code",
      "metadata": {
        "id": "dNld2S0XHGXL",
        "outputId": "e1516470-2215-4f07-d501-4fadd213ed91",
        "colab": {
          "base_uri": "https://localhost:8080/",
          "height": 34
        }
      },
      "source": [
        "# expressão  \n",
        "10  +  20  *  30"
      ],
      "execution_count": null,
      "outputs": [
        {
          "output_type": "execute_result",
          "data": {
            "text/plain": [
              "610"
            ]
          },
          "metadata": {
            "tags": []
          },
          "execution_count": 34
        }
      ]
    },
    {
      "cell_type": "code",
      "metadata": {
        "id": "QV_j666YHraT"
      },
      "source": [
        "# expressão  \n",
        "4  ** (  2  ) + 30"
      ],
      "execution_count": null,
      "outputs": []
    },
    {
      "cell_type": "code",
      "metadata": {
        "id": "ba7GEFCoIZim",
        "outputId": "15e14e6d-9fea-4c8a-a48e-7441378a64f6",
        "colab": {
          "base_uri": "https://localhost:8080/",
          "height": 34
        }
      },
      "source": [
        " \n",
        "#expressao 10% 3 * 10 ** (2) + 1-10 * 4/2"
      ],
      "execution_count": null,
      "outputs": [
        {
          "output_type": "execute_result",
          "data": {
            "text/plain": [
              "81.0"
            ]
          },
          "metadata": {
            "tags": []
          },
          "execution_count": 42
        }
      ]
    },
    {
      "cell_type": "code",
      "metadata": {
        "id": "0KsA0i1OWXqM",
        "outputId": "b6716b5f-c8e0-473a-fb8a-514866291f2b",
        "colab": {
          "base_uri": "https://localhost:8080/",
          "height": 34
        }
      },
      "source": [
        "A =            1           \n",
        "B =            2           \n",
        "C = A> B           \n",
        "D = não A> B           \n",
        "E = não B> A           \n",
        "C e E ou D"
      ],
      "execution_count": null,
      "outputs": [
        {
          "output_type": "execute_result",
          "data": {
            "text/plain": [
              "True"
            ]
          },
          "metadata": {
            "tags": []
          },
          "execution_count": 61
        }
      ]
    },
    {
      "cell_type": "code",
      "metadata": {
        "id": "p6AJcgGlYr7S",
        "outputId": "a20c899f-eb1b-45e8-fc24-aee6d5eed95c",
        "colab": {
          "base_uri": "https://localhost:8080/",
          "height": 34
        }
      },
      "source": [
        "Slrio =  1300  \n",
        "não Slrio <  1100"
      ],
      "execution_count": null,
      "outputs": [
        {
          "output_type": "execute_result",
          "data": {
            "text/plain": [
              "True"
            ]
          },
          "metadata": {
            "tags": []
          },
          "execution_count": 62
        }
      ]
    },
    {
      "cell_type": "code",
      "metadata": {
        "id": "stBnp4rDNgyT",
        "outputId": "99396712-376c-4803-8722-46c125f354ba",
        "colab": {
          "base_uri": "https://localhost:8080/",
          "height": 34
        }
      },
      "source": [
        "# Expressão             \n",
        "(           9             ** (             4             ) +             2           ) *         6-1"
      ],
      "execution_count": null,
      "outputs": [
        {
          "output_type": "execute_result",
          "data": {
            "text/plain": [
              "39377"
            ]
          },
          "metadata": {
            "tags": []
          },
          "execution_count": 45
        }
      ]
    },
    {
      "cell_type": "code",
      "metadata": {
        "id": "Ro-3BKiHa6f4",
        "outputId": "6193ad98-5ad6-4ac5-e08e-29838d46d029",
        "colab": {
          "base_uri": "https://localhost:8080/",
          "height": 34
        }
      },
      "source": [
        " \n",
        "F =                      7                  \n",
        "G =                      7                   \n",
        "H =                      9                     \n",
        "I = F>   7   e G>   7   e H>   7     \n",
        "impressão (   \"Aprovado\"   )"
      ],
      "execution_count": null,
      "outputs": [
        {
          "output_type": "stream",
          "text": [
            "Aprovado\n"
          ],
          "name": "stdout"
        }
      ]
    },
    {
      "cell_type": "code",
      "metadata": {
        "id": "Xlzn6X-dZv6D",
        "outputId": "a410def2-3aa5-43db-d07a-b59ab56f935f",
        "colab": {
          "base_uri": "https://localhost:8080/",
          "height": 69
        }
      },
      "source": [
        " \n",
        "X =        int        (input (       \"Digite um número inteiro\"       ))       \n",
        " Y =        int        (input (       \"Digite um número inteiro\"       ))       \n",
        "Soma = X + Y       \n",
        "imprimir (Soma)"
      ],
      "execution_count": null,
      "outputs": [
        {
          "output_type": "stream",
          "text": [
            "Digite um número inteiro5\n",
            "Digite um número inteiro2\n",
            "7\n"
          ],
          "name": "stdout"
        }
      ]
    },
    {
      "cell_type": "code",
      "metadata": {
        "id": "_cTs3zBjLUdp",
        "outputId": "9e41cdf6-a259-4850-9640-be79c24b1995",
        "colab": {
          "base_uri": "https://localhost:8080/",
          "height": 51
        }
      },
      "source": [
        " \n",
        "X =             float             (input (            \"Digite um valor em metros\"            ))           \n",
        " Valoremmilimetros = X *             1000            \n",
        "imprimir (Valoremmilimetros)"
      ],
      "execution_count": null,
      "outputs": [
        {
          "output_type": "stream",
          "text": [
            "Digite um valor em metros10\n",
            "10000.0\n"
          ],
          "name": "stdout"
        }
      ]
    },
    {
      "cell_type": "code",
      "metadata": {
        "id": "fcuTh6MBNgzB",
        "outputId": "5a5eb060-7661-4939-b645-7e397234c203",
        "colab": {
          "base_uri": "https://localhost:8080/",
          "height": 123
        }
      },
      "source": [
        " \n",
        "qtdd =            int            (input (           \"Digite a quantidade de dias\"           ))          \n",
        " qtdh =            int            (input (           \"Digite a quantidade de horas\"           ))           \n",
        "qtdm =            int            (input (           \"Digite a quantidade de minutos\"           ))           \n",
        "qtds =            int            (input (           \"Digite a quantidade de segundos\"           ))          \n",
        "Totais = qtds + qtdm *           60           + qtdh *           3600           + qtdd *           24          *          3600      \n",
        " impressão (Totais)"
      ],
      "execution_count": null,
      "outputs": [
        {
          "output_type": "stream",
          "text": [
            "Digite a quantidade de dias60\n",
            "Digite a quantidade de horas6\n",
            "Digite a quantidade de minutos30\n",
            "Digite a quantidade de segundos12\n",
            "5207412\n"
          ],
          "name": "stdout"
        }
      ]
    },
    {
      "cell_type": "code",
      "metadata": {
        "id": "jRANSLh_Q9Et",
        "outputId": "2b48c18d-e18f-4df8-8574-a8f35abc5b1a",
        "colab": {
          "base_uri": "https://localhost:8080/",
          "height": 106
        }
      },
      "source": [
        " \n",
        " \n",
        "Sal =   float   (input (  \"Digite o valor do salário\"  )) \n",
        " AumP =   float   (input (  \"Digite a porcentagem do aumento\"  ))  \n",
        "Vaum = Sal * (AumP /  100  )  \n",
        "NSal = Sal + Vaum  \n",
        "print (  \"O valor do aumento de R $%. 2f \"   % Vaum)   \n",
        "imprimir (   \" O novo salário será de R $%. 2f \"  % NSal)"
      ],
      "execution_count": null,
      "outputs": [
        {
          "output_type": "stream",
          "text": [
            "Digite o valor do salário1700\n",
            "Digite a porcentagem do aumento10\n",
            "O valor do aumento foi R$170.00\n",
            "O novo salário será de R$1870.00\n"
          ],
          "name": "stdout"
        }
      ]
    },
    {
      "cell_type": "code",
      "metadata": {
        "id": "Q3ig9hVUmsbq",
        "outputId": "bc6a8795-3ebc-42bd-9179-b1c9d70c6e2a",
        "colab": {
          "base_uri": "https://localhost:8080/",
          "height": 106
        }
      },
      "source": [
        " \n",
        "Preçomerc =       float       (input (      \"Digite o preço da mercadoria\"      ))      \n",
        "PorcDesc =       float       (input (      \"Digite a porcentagem de desconto\"      ))      \n",
        "Vdesc = Preçomerc * (PorcDesc /       100      )      \n",
        "Preçototal = Preçomerc - Vdesc      \n",
        "print (      \"O valor do desconto foi de R $% .2f \"     % Vdesc)      \n",
        "print (       \" O Preço da Mercadoria com desconto é de R $%          .2f \"     % Preçototal)"
      ],
      "execution_count": null,
      "outputs": [
        {
          "output_type": "stream",
          "text": [
            "Digite o preço da mercadoria1555.3\n",
            "Digite a porcentagem de desconto17\n",
            "O valor do desconto foi de R $ 264.40 \n",
            " O Preço da Mercadoria com desconto é de R $ 1290.90 \n"
          ],
          "name": "stdout"
        }
      ]
    },
    {
      "cell_type": "code",
      "metadata": {
        "id": "gWFgNLYfolE7",
        "outputId": "56a63071-9311-4f75-f6a2-3c8984a21870",
        "colab": {
          "base_uri": "https://localhost:8080/",
          "height": 89
        }
      },
      "source": [
        " \n",
        "Distancia =       float       (input (      \"Digite o valor da distância a ser percorrida na       viagem (em km)\"      ))      \n",
        "Velmedia =       float       (input (      \"Digite o valor da velocidade média esperada para       a viagem (em Km / h)\"      ))      \n",
        "Tempoviagem = Distancia / impressão Velmedia      \n",
        "(      \"O tempo da viagem será de% .2f horas\"       % Tempoviagem)"
      ],
      "execution_count": null,
      "outputs": [
        {
          "output_type": "stream",
          "text": [
            "Digite o valor da distância a ser percorrida na    viagem (em km)1234\n",
            "Digite o valor da velocidade média esperada para    a viagem (em Km/h)97\n",
            "O tempo da viagem será de 12.72 horas\n"
          ],
          "name": "stdout"
        }
      ]
    },
    {
      "cell_type": "code",
      "metadata": {
        "id": "QhdeqTaTq_4h",
        "outputId": "af71e4ab-aaaa-4b47-fee2-0bea72bb11f1",
        "colab": {
          "base_uri": "https://localhost:8080/",
          "height": 89
        }
      },
      "source": [
        "Distancia =                     float                     (input (                    \"Digite o valor da distância percorrida pelo carro                     alugado (em km)\"                    ))                    \n",
        "Qtddias =    float    (input (    \"Digite a quantidade de dias que o carro foi aluga  do\"   ))                    \n",
        "Valor = Qtddias *       60       + distancia * (                    15                    /                    100               )      \n",
        "print (       \"O Custo e R $% .2f\"        % Valor)"
      ],
      "execution_count": null,
      "outputs": [
        {
          "output_type": "stream",
          "text": [
            "Digite o valor da distância percorrida pelo carro                   alugado (em km)10\n",
            "Digite a quantidade de dias que o carro foi alugado 5\n",
            "O Custo e R $ 301.50\n"
          ],
          "name": "stdout"
        }
      ]
    },
    {
      "cell_type": "code",
      "metadata": {
        "id": "OkIfBhlriKJ2",
        "outputId": "6c719dea-21ad-45bd-9ca5-c74a17eedc79",
        "colab": {
          "base_uri": "https://localhost:8080/",
          "height": 89
        }
      },
      "source": [
        "Qtdcigarro =             float             (input (            \"Digite a quantidade de cigarros fumados por dia\"            ))            \n",
        "Qtdanos =             float             (input (            \"Digite o total de anos que você fumou\"            ))         \n",
        "Qtdtotal = Qtdcigarro *         365         * Qtdanos         \n",
        "MinP = Qtdtotal *         10         \n",
        "DiasP = MinP /         1440         \n",
        "print (         \"A quantidade de dias da sua vida que você perdeu  por causa dessa vício foi:% .0f dias\"          % DiasP)"
      ],
      "execution_count": null,
      "outputs": [
        {
          "output_type": "stream",
          "text": [
            "Digite a quantidade de cigarros fumados por dia 6\n",
            "Digite o total de anos que você fumou 30\n",
            "A quantidade de dias da sua vida que você perdeu por causa dessa vício foi: 456 dias\n"
          ],
          "name": "stdout"
        }
      ]
    },
    {
      "cell_type": "code",
      "metadata": {
        "id": "fN2d_h_nqj1Q",
        "outputId": "e0bfc924-462f-40a4-ec4c-f91e764c5723",
        "colab": {
          "base_uri": "https://localhost:8080/",
          "height": 71
        }
      },
      "source": [
        " \n",
        "TempC = flutuante (entrada (    \"Digite o valor da temperatura em ° C\"    ))    \n",
        "TempF =     9     * TempC /     5     +     32    \n",
        "impressão (    \"A temperatura em fahrenheit é;% .0f\"    % TempF)"
      ],
      "execution_count": null,
      "outputs": [
        {
          "output_type": "stream",
          "text": [
            "Digite o valor da temperatura em ° C41\n",
            "A temperatura em fahrenheit é; 106\n"
          ],
          "name": "stdout"
        }
      ]
    },
    {
      "cell_type": "code",
      "metadata": {
        "id": "NhMXXP2Ixb-4",
        "outputId": "da9fd211-9295-4a98-9912-ac43f0ef1d72",
        "colab": {
          "base_uri": "https://localhost:8080/",
          "height": 141
        }
      },
      "source": [
        "Nvend =  input ( \"Digite o nome do vendedor\" ) \n",
        "SalF = float (  input ( \"Digite o salário fixo\" )) \n",
        "Vendasmes = float (  input ( \"Digite o valor das suas vendas mensais\" )) \n",
        "Comissao = Vendasmes * 0,15 \n",
        "SalT = SalF + Comissao \n",
        "print (Nvend) \n",
        "print ( \"O seu salário é de R $%. 2f\"  % SalF) \n",
        "print ( \"O seu salário total é de R $%. 2f\"  % SalT)"
      ],
      "execution_count": null,
      "outputs": [
        {
          "output_type": "stream",
          "text": [
            "Digite o nome do vendedor Sérgio\n",
            "Digite o salário fixo 1600\n",
            "Digite o valor das suas vendas mensais 1000\n",
            "Sérgio\n",
            "O seu salário fixo é de R$1600.00 \n",
            "O seu salário total é de R$1750.00 \n"
          ],
          "name": "stdout"
        }
      ]
    },
    {
      "cell_type": "code",
      "metadata": {
        "id": "f0IOXbIC3-PA",
        "outputId": "02ca2eba-61b3-4262-d16e-1ba7bcd94ad1",
        "colab": {
          "base_uri": "https://localhost:8080/",
          "height": 86
        }
      },
      "source": [
        "A = float ( input ( \"Digite um número inteiro \" )) \n",
        "B =  float  (input ( \"Digite um número inteiro \" ))\n",
        "C=A\n",
        "A=B\n",
        "B=C\n",
        "print (\"O primeiro número trocado é: %.0f \" %A)\n",
        "print (\"O segundo número trocado é:%.0f \"%B)"
      ],
      "execution_count": null,
      "outputs": [
        {
          "output_type": "stream",
          "text": [
            "Digite um número inteiro 100\n",
            "Digite um número inteiro 90\n",
            "O primeiro número trocado é: 90 \n",
            "O segundo número trocado é:100 \n"
          ],
          "name": "stdout"
        }
      ]
    },
    {
      "cell_type": "code",
      "metadata": {
        "id": "d4gdHcDiLwYX",
        "outputId": "754bd218-2975-4ec4-d40d-44f21d7eba9b",
        "colab": {
          "base_uri": "https://localhost:8080/",
          "height": 89
        }
      },
      "source": [
        " Dol= float ( input(\"Digite a quantidade de dólares que você possui \"))\n",
        "Cotacao= float ( input(\"Digite a cotação do dólar atual \"))\n",
        "Vreais = Dol*Cotacao\n",
        "print (\"O valor que você possui em reais é: R$%.2f\" %Vreais)"
      ],
      "execution_count": null,
      "outputs": [
        {
          "output_type": "stream",
          "text": [
            "Digite a quantidade de dólares que você possui 300\n",
            "Digite a cotação do dólar atual 6\n",
            "O valor que você possui em reais é: R$1800.00\n"
          ],
          "name": "stdout"
        }
      ]
    },
    {
      "cell_type": "code",
      "metadata": {
        "id": "Zdf3iFUQBOWd",
        "outputId": "5bafb5ca-df5b-454b-cdbb-8a5f1d5126d0",
        "colab": {
          "base_uri": "https://localhost:8080/",
          "height": 71
        }
      },
      "source": [
        "Cf = float(input ( \"Digite o custo de fabrica do seu carro \"))\n",
        "imp= Cf*0.45\n",
        "Imp2=imp+Cf\n",
        "Porcdist= Imp2*0.28\n",
        "CT= Cf+imp+Porcdist\n",
        "print (\" O custo total do seu carro é: %.2f \" %CT)"
      ],
      "execution_count": null,
      "outputs": [
        {
          "output_type": "stream",
          "text": [
            "Digite o custo de fabrica do seu carro 10000\n",
            " O custo total do seu carro é: 18560.00 \n"
          ],
          "name": "stdout"
        }
      ]
    },
    {
      "cell_type": "code",
      "metadata": {
        "id": "DsL6JHfJDDwS",
        "outputId": "1e48413f-1550-4909-fa75-f53aba290d8a",
        "colab": {
          "base_uri": "https://localhost:8080/",
          "height": 71
        }
      },
      "source": [
        "vel = float (input ( \"Digite a velocidade do seu carro (em Km / h)\" )) \n",
        "if vel > 80: \n",
        "    m = (vel-80 ) * 5 \n",
        "    print (\"Você foi multado em: R$ %.2f\"  %m)"
      ],
      "execution_count": 7,
      "outputs": [
        {
          "output_type": "stream",
          "text": [
            "Digite a velocidade do seu carro (em Km / h)100\n",
            "Você foi multado em: R$ 100.00\n"
          ],
          "name": "stdout"
        }
      ]
    },
    {
      "cell_type": "code",
      "metadata": {
        "id": "AxYBU-aFKa4H",
        "outputId": "8226f800-5557-4208-cb71-5f03e1cbc1c8",
        "colab": {
          "base_uri": "https://localhost:8080/",
          "height": 103
        }
      },
      "source": [
        "A= float( input (\"Digite um número \"))\n",
        "B= float( input (\"Digite um número \"))\n",
        "C= float( input (\"Digite um número \"))\n",
        "if A>B and A>C:\n",
        "    print (\"O maior número é o %.2f \" %A)\n",
        "    if B>C:\n",
        "        print (\"O menor número é o %.2f \" %C)\n",
        "    else:\n",
        "        print (\"O menor número é o %.2f \" %B)\n",
        "        if B==C:\n",
        "            print (\"Os dois últimos números são iguais\")\n",
        "if B>A and B>C:\n",
        "    print (\"O maior número é o %.2f \" %B)\n",
        "    if A>C:\n",
        "        print (\"O menor número é o %.2f \" %C)\n",
        "    else:\n",
        "        print (\"O menor número é o %.2f \" %A)\n",
        "        if A==C:\n",
        "            print (\"O primeiro e o último número são iguais\")\n",
        "if C>A and C>B:\n",
        "    print (\"O maior número é o %.2f \" %C)\n",
        "    if A>B:\n",
        "        print (\"O menor número é o %.2f \" %B)\n",
        "    else:\n",
        "        print (\"O menor número é o %.2f \" %A)\n",
        "        if B==A:\n",
        "            print (\"Os dois primeiros números são iguais\")\n",
        "if A==B and B==C:\n",
        "    print (\"Os três números são iguais\")"
      ],
      "execution_count": 1,
      "outputs": [
        {
          "output_type": "stream",
          "text": [
            "Digite um número 60\n",
            "Digite um número 80\n",
            "Digite um número 6\n",
            "O maior número é o 80.00 \n",
            "O menor número é o 6.00 \n"
          ],
          "name": "stdout"
        }
      ]
    },
    {
      "cell_type": "code",
      "metadata": {
        "id": "U89s6NqOOEov",
        "outputId": "6ed83e86-ba5a-401a-a7ba-a7d2d7aaf2cc",
        "colab": {
          "base_uri": "https://localhost:8080/",
          "height": 71
        }
      },
      "source": [
        " \n",
        "Sal=float (input (\"Informe seu salário: R$ \"))\n",
        "if Sal>1250:\n",
        "    SalF = Sal*0.1+Sal\n",
        "    print (\"Seu salário final(salário+aumento) é: R$ %.2f \" %SalF)\n",
        "else:\n",
        "    SalF = Sal*0.15+Sal\n",
        "    print (\"Seu salário final(salário+aumento) é: R$ %.2f \" %SalF)"
      ],
      "execution_count": 9,
      "outputs": [
        {
          "output_type": "stream",
          "text": [
            "Informe seu salário: R$ 1000\n",
            "Seu salário final(salário+aumento) é: R$ 1150.00 \n"
          ],
          "name": "stdout"
        }
      ]
    },
    {
      "cell_type": "code",
      "metadata": {
        "id": "tRJ2fW7MPFQ5",
        "outputId": "8a3bd781-bcf0-42b4-9439-4428340065db",
        "colab": {
          "base_uri": "https://localhost:8080/",
          "height": 71
        }
      },
      "source": [
        " \n",
        "Dist= float(input (\"Digite a distância que você deseja percorrer (em Km) \"))\n",
        "if Dist<=200:\n",
        "    Ppass= Dist*0.5\n",
        "    print (\"O preço da passagem é: R$ %.2f \" %Ppass)\n",
        "else:\n",
        "    Ppass= Dist*0.45\n",
        "    print (\"O preço da passagem é: R$ %.2f \" %Ppass)"
      ],
      "execution_count": 10,
      "outputs": [
        {
          "output_type": "stream",
          "text": [
            "Digite a distância que você deseja percorrer (em Km) 10\n",
            "O preço da passagem é: R$ 5.00 \n"
          ],
          "name": "stdout"
        }
      ]
    },
    {
      "cell_type": "code",
      "metadata": {
        "id": "f8NsS0XXP2tK"
      },
      "source": [
        ""
      ],
      "execution_count": null,
      "outputs": []
    }
  ]
}