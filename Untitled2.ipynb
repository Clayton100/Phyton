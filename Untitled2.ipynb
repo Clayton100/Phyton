{
  "nbformat": 4,
  "nbformat_minor": 0,
  "metadata": {
    "colab": {
      "name": "Untitled2.ipynb",
      "provenance": [],
      "collapsed_sections": [],
      "authorship_tag": "ABX9TyPyqakkgLZp0BSZ9aaQrrre",
      "include_colab_link": true
    },
    "kernelspec": {
      "name": "python3",
      "display_name": "Python 3"
    }
  },
  "cells": [
    {
      "cell_type": "markdown",
      "metadata": {
        "id": "view-in-github",
        "colab_type": "text"
      },
      "source": [
        "<a href=\"https://colab.research.google.com/github/Clayton100/Phyton/blob/main/Untitled2.ipynb\" target=\"_parent\"><img src=\"https://colab.research.google.com/assets/colab-badge.svg\" alt=\"Open In Colab\"/></a>"
      ]
    },
    {
      "cell_type": "code",
      "metadata": {
        "id": "VJI8V8PpN54d",
        "outputId": "18f9e9d2-df8c-426a-8cdd-a0204aeeac1b",
        "colab": {
          "base_uri": "https://localhost:8080/"
        }
      },
      "source": [
        "A=int(input (\"Digite um número \"))\n",
        "B=int(input (\"Digite um número \"))\n",
        "C=A+B\n",
        "print (C)"
      ],
      "execution_count": null,
      "outputs": [
        {
          "output_type": "stream",
          "text": [
            "Digite um número 8\n",
            "Digite um número 6\n",
            "14\n"
          ],
          "name": "stdout"
        }
      ]
    },
    {
      "cell_type": "code",
      "metadata": {
        "id": "welYgrjHOuAf",
        "outputId": "5c520546-1ae4-4d8c-ff66-0d574d6fec3d",
        "colab": {
          "base_uri": "https://localhost:8080/"
        }
      },
      "source": [
        "A=int(input (\"Digite um número \"))\n",
        "B=int(input (\"Digite um número \"))\n",
        "C=A+B\n",
        "D=A-B\n",
        "E=A/B\n",
        "F=A*B\n",
        "print (C)\n",
        "print (D)\n",
        "print (E)\n",
        "print (F)"
      ],
      "execution_count": null,
      "outputs": [
        {
          "output_type": "stream",
          "text": [
            "Digite um número 5\n",
            "Digite um número 2\n",
            "7\n",
            "3\n",
            "2.5\n",
            "10\n"
          ],
          "name": "stdout"
        }
      ]
    },
    {
      "cell_type": "code",
      "metadata": {
        "id": "UivqtP0QP2Tk",
        "outputId": "ca147697-e2c8-4e1a-b4b4-2102647f1fde",
        "colab": {
          "base_uri": "https://localhost:8080/"
        }
      },
      "source": [
        "Dist=float(input (\"Digite a distância percorrida \"))\n",
        "Comb= float(input (\"Digite o combustível gasto \"))\n",
        "Consumo=Dist/Comb\n",
        "print (Consumo)"
      ],
      "execution_count": null,
      "outputs": [
        {
          "output_type": "stream",
          "text": [
            "Digite a distância percorrida 10\n",
            "Digite o combustível gasto 5\n",
            "2.0\n"
          ],
          "name": "stdout"
        }
      ]
    },
    {
      "cell_type": "code",
      "metadata": {
        "id": "iMzA5r1QRWaP",
        "outputId": "dde3dd17-b909-4f84-9e6d-9bee47bb400d",
        "colab": {
          "base_uri": "https://localhost:8080/"
        }
      },
      "source": [
        "Nvend =  input ( \"Digite o nome do vendedor\" ) \n",
        "SalF = float (  input ( \"Digite o salário fixo\" ))\n",
        "Vendasmes = float (  input ( \"Digite o valor das suas vendas mensais\")) \n",
        "Comissao = Vendasmes * 0.15 \n",
        "SalT = SalF + Comissao \n",
        "print (Nvend) \n",
        "print (\"O seu salário é de R$ %.2f\"  %SalF) \n",
        "print (\"O seu salário total é de R $%.2f\"  %SalT)"
      ],
      "execution_count": null,
      "outputs": [
        {
          "output_type": "stream",
          "text": [
            "Digite o nome do vendedorClayton\n",
            "Digite o salário fixo1700\n",
            "Digite o valor das suas vendas mensais1000\n",
            "Clayton\n",
            "O seu salário é de R$ 1700.00\n",
            "O seu salário total é de R $1850.00\n"
          ],
          "name": "stdout"
        }
      ]
    },
    {
      "cell_type": "code",
      "metadata": {
        "id": "vZERrem_S_88",
        "outputId": "3fe63bb7-d1d0-4fa3-f3c8-d020be646cc3",
        "colab": {
          "base_uri": "https://localhost:8080/"
        }
      },
      "source": [
        "Aluno= str(input(\"Digite o nome do aluno\"))\n",
        "A1= float(input (\"Digite o valor da primeira prova\"))\n",
        "A2= float(input (\"Digite o valor da segunda prova\"))\n",
        "A3= float(input (\"Digite o valor da terceira prova\"))\n",
        "Media=(A1+A2+A3)/3\n",
        "print (Aluno)\n",
        "print (Media)"
      ],
      "execution_count": null,
      "outputs": [
        {
          "output_type": "stream",
          "text": [
            "Digite o nome do alunoCinthia\n",
            "Digite o valor da primeira prova8\n",
            "Digite o valor da segunda prova9\n",
            "Digite o valor da terceira prova10\n",
            "Cinthia\n",
            "9.0\n"
          ],
          "name": "stdout"
        }
      ]
    },
    {
      "cell_type": "code",
      "metadata": {
        "id": "o4HLuSU8Uyf3",
        "outputId": "d157bb2b-bfb3-45f1-c602-3406739d27ba",
        "colab": {
          "base_uri": "https://localhost:8080/"
        }
      },
      "source": [
        "A = float ( input ( \"Digite um número inteiro \" )) \n",
        "B =  float  (input ( \"Digite um número inteiro \" ))\n",
        "C=A\n",
        "A=B\n",
        "B=C\n",
        "print (\"O primeiro número trocado é: %.0f \" %A)\n",
        "print (\"O segundo número trocado é:%.0f \"%B)"
      ],
      "execution_count": null,
      "outputs": [
        {
          "output_type": "stream",
          "text": [
            "Digite um número inteiro 5\n",
            "Digite um número inteiro 6\n",
            "O primeiro número trocado é: 6 \n",
            "O segundo número trocado é:5 \n"
          ],
          "name": "stdout"
        }
      ]
    },
    {
      "cell_type": "code",
      "metadata": {
        "id": "jOXKM1I3VYcw",
        "outputId": "bf9ac7f2-b609-4162-a403-39107868651e",
        "colab": {
          "base_uri": "https://localhost:8080/"
        }
      },
      "source": [
        " \n",
        "TempC = float (input (    \"Digite o valor da temperatura em ° C\"    ))    \n",
        "TempF =     9     * TempC / 5 + 32 \n",
        "print(  \"A temperatura em fahrenheit é;% .0f\"    % TempF)"
      ],
      "execution_count": null,
      "outputs": [
        {
          "output_type": "stream",
          "text": [
            "Digite o valor da temperatura em ° C20\n",
            "A temperatura em fahrenheit é; 68\n"
          ],
          "name": "stdout"
        }
      ]
    },
    {
      "cell_type": "code",
      "metadata": {
        "id": "QfR-iMBMWM9X",
        "outputId": "06992f05-e6aa-4522-dc8b-e04898559402",
        "colab": {
          "base_uri": "https://localhost:8080/"
        }
      },
      "source": [
        "Dol= float ( input(\"Digite a quantidade de dólares que você possui \"))\n",
        "Cotacao= float ( input(\"Digite a cotação do dólar atual \"))\n",
        "Vreais = Dol*Cotacao\n",
        "print (\"O valor que você possui em reais é: R$%.2f\" %Vreais)"
      ],
      "execution_count": null,
      "outputs": [
        {
          "output_type": "stream",
          "text": [
            "Digite a quantidade de dólares que você possui 300\n",
            "Digite a cotação do dólar atual 5\n",
            "O valor que você possui em reais é: R$1500.00\n"
          ],
          "name": "stdout"
        }
      ]
    },
    {
      "cell_type": "code",
      "metadata": {
        "id": "s1METU2TXSsZ",
        "outputId": "fc3dabf7-533a-4db3-ce1d-f2df4d425015",
        "colab": {
          "base_uri": "https://localhost:8080/"
        }
      },
      "source": [
        "Dep=float(input (\"Digite o valor depositado\"))\n",
        "Juro=0.7/100\n",
        "Rend=Dep+Dep*Juro\n",
        "print (\"O valor após 1 mês é: R$%.2f \" %Rend)"
      ],
      "execution_count": null,
      "outputs": [
        {
          "output_type": "stream",
          "text": [
            "Digite o valor depositado1000\n",
            "O valor após 1 mês é: R$1007.00 \n"
          ],
          "name": "stdout"
        }
      ]
    },
    {
      "cell_type": "code",
      "metadata": {
        "id": "mMZo_8sJZCBp",
        "outputId": "9b59d88d-5a0c-48c7-b527-c4822e926183",
        "colab": {
          "base_uri": "https://localhost:8080/"
        }
      },
      "source": [
        "Compra= float(input (\"Digite o valor da compra\"))\n",
        "Prest=Compra/5\n",
        "print (Compra)\n",
        "print (Prest)"
      ],
      "execution_count": null,
      "outputs": [
        {
          "output_type": "stream",
          "text": [
            "Digite o valor da compra500\n",
            "500.0\n",
            "100.0\n"
          ],
          "name": "stdout"
        }
      ]
    },
    {
      "cell_type": "code",
      "metadata": {
        "id": "hry9rCgDZYI6"
      },
      "source": [
        ""
      ],
      "execution_count": null,
      "outputs": []
    }
  ]
}