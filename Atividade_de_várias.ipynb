{
  "nbformat": 4,
  "nbformat_minor": 0,
  "metadata": {
    "colab": {
      "name": "Atividade de várias.ipynb",
      "provenance": [],
      "collapsed_sections": [],
      "include_colab_link": true
    },
    "kernelspec": {
      "name": "python3",
      "display_name": "Python 3"
    }
  },
  "cells": [
    {
      "cell_type": "markdown",
      "metadata": {
        "id": "view-in-github",
        "colab_type": "text"
      },
      "source": [
        "<a href=\"https://colab.research.google.com/github/Clayton100/Phyton/blob/main/Atividade_de_v%C3%A1rias.ipynb\" target=\"_parent\"><img src=\"https://colab.research.google.com/assets/colab-badge.svg\" alt=\"Open In Colab\"/></a>"
      ]
    },
    {
      "cell_type": "code",
      "metadata": {
        "id": "LwOouCMhJGAv",
        "colab": {
          "base_uri": "https://localhost:8080/"
        },
        "outputId": "9629c9cf-80cd-4159-cce8-2078bfb6e6bb"
      },
      "source": [
        "#ExerciciosLista\n",
        "A=int(input(\"Digite um numero\"))\n",
        "B=int(input(\"Digite um numero\"))\n",
        "C=A+B\n",
        "print(C)"
      ],
      "execution_count": null,
      "outputs": [
        {
          "output_type": "stream",
          "text": [
            "Digite um numero8\n",
            "Digite um numero6\n",
            "14\n"
          ],
          "name": "stdout"
        }
      ]
    },
    {
      "cell_type": "code",
      "metadata": {
        "id": "XIEdPl1Ug9Vl",
        "colab": {
          "base_uri": "https://localhost:8080/"
        },
        "outputId": "b6b225e4-6ddf-4547-b609-6d84d8424c57"
      },
      "source": [
        "A=int(input(\"Digite um numero\"))\n",
        "B=int(input(\"Digite um numero\"))\n",
        "C=A+B\n",
        "D=A-B\n",
        "E=A/B\n",
        "F=A*B\n",
        "print(C)\n",
        "print(D)\n",
        "print(E)\n",
        "print(F)"
      ],
      "execution_count": null,
      "outputs": [
        {
          "output_type": "stream",
          "text": [
            "Digite um numero6\n",
            "Digite um numero2\n",
            "8\n",
            "4\n",
            "3.0\n",
            "12\n"
          ],
          "name": "stdout"
        }
      ]
    },
    {
      "cell_type": "code",
      "metadata": {
        "id": "BysKa3bMhmej",
        "colab": {
          "base_uri": "https://localhost:8080/"
        },
        "outputId": "acd212e4-f851-4796-e3e0-96a5126dd5ff"
      },
      "source": [
        "Dist=float(input(\"Digite a distancia percorrida\"))\n",
        "Comb=float(input(\"Digite o gasto\"))\n",
        "Consumo=Dist/Comb\n",
        "print(Consumo)"
      ],
      "execution_count": null,
      "outputs": [
        {
          "output_type": "stream",
          "text": [
            "Digite a distancia percorrida25\n",
            "Digite o gasto5\n",
            "5.0\n"
          ],
          "name": "stdout"
        }
      ]
    },
    {
      "cell_type": "code",
      "metadata": {
        "id": "1KSjdB6YiVx6",
        "colab": {
          "base_uri": "https://localhost:8080/"
        },
        "outputId": "42c92489-8959-461e-dc8b-b31f20b3b38b"
      },
      "source": [
        "Nvend= input (\"Digite o nome do vendedor\")\n",
        "SalF= float (input(\"Digite o salario fixo\"))\n",
        "Vendasmes= float (input(\"Digite o valor das suas vendas mensais\"))\n",
        "Comissao= Vendasmes*0.15\n",
        "SalT= SalF + Comissao\n",
        "print (Nvend)\n",
        "print(\"O seu salario e de R$ %.2f\" %SalF)\n",
        "print (\"O salario total e de R$ %.2f\" %SalT)"
      ],
      "execution_count": null,
      "outputs": [
        {
          "output_type": "stream",
          "text": [
            "Digite o nome do vendedorCinthia\n",
            "Digite o salario fixo1200\n",
            "Digite o valor das suas vendas mensais500\n",
            "Cinthia\n",
            "O seu salario e de R$ 1200.00\n",
            "O salario total e de R$ 1275.00\n"
          ],
          "name": "stdout"
        }
      ]
    },
    {
      "cell_type": "code",
      "metadata": {
        "id": "fA0s0onlkLpO",
        "colab": {
          "base_uri": "https://localhost:8080/"
        },
        "outputId": "44731da1-1dbe-4b28-a129-b988e8ced3b6"
      },
      "source": [
        "Aluno= str(input(\"Digite o nome do aluno\"))\n",
        "A1= float(input(\"Digite o valor da primeira prova\"))\n",
        "A2= float(input(\"Digite o valor da segunda prova\"))\n",
        "A3= float(input(\"Digite o valor da terceira prova\"))\n",
        "Media=(A1+A2+A3)/3\n",
        "print (Aluno)\n",
        "print (Media)\n"
      ],
      "execution_count": null,
      "outputs": [
        {
          "output_type": "stream",
          "text": [
            "Digite o nome do alunoDeok sun\n",
            "Digite o valor da primeira prova3\n",
            "Digite o valor da segunda prova6\n",
            "Digite o valor da terceira prova9\n",
            "Deok sun\n",
            "6.0\n"
          ],
          "name": "stdout"
        }
      ]
    },
    {
      "cell_type": "code",
      "metadata": {
        "id": "LmjSLjjAlZZv",
        "colab": {
          "base_uri": "https://localhost:8080/"
        },
        "outputId": "5a5274f2-168d-49ab-8b22-0664b44c6af8"
      },
      "source": [
        "A=float (input(\"Digite um numero inteiro\"))\n",
        "B=float (input(\"Digite um numero inteiro\"))\n",
        "C=A\n",
        "A=B\n",
        "B=C\n",
        "print (\"O primeiro numero trocado e: %.0f\" %A)\n",
        "print (\"O segundo numero trocado e: %.0f\" %B)\n"
      ],
      "execution_count": null,
      "outputs": [
        {
          "output_type": "stream",
          "text": [
            "Digite um numero inteiro4\n",
            "Digite um numero inteiro6\n",
            "O primeiro numero trocado e: 6\n",
            "O segundo numero trocado e: 4\n"
          ],
          "name": "stdout"
        }
      ]
    },
    {
      "cell_type": "code",
      "metadata": {
        "id": "mPfRAklQmNnj",
        "colab": {
          "base_uri": "https://localhost:8080/"
        },
        "outputId": "0dd6d653-7f4a-4fa4-a9ac-16393da5e1ca"
      },
      "source": [
        "TempC= float (input(\"Digite o valor da temperatura em °C\"))\n",
        "TempF= 9*TempC/5+32\n",
        "print(\"A temperatura em fahrenheit e;% .0f\" %TempF)"
      ],
      "execution_count": null,
      "outputs": [
        {
          "output_type": "stream",
          "text": [
            "Digite o valor da temperatura em °C56\n",
            "A temperatura em fahrenheit e; 133\n"
          ],
          "name": "stdout"
        }
      ]
    },
    {
      "cell_type": "code",
      "metadata": {
        "id": "JYvTF-HfnA9L",
        "colab": {
          "base_uri": "https://localhost:8080/"
        },
        "outputId": "5ce642da-b83b-4653-fc6a-4464e52ad3e8"
      },
      "source": [
        "Dol= float (input(\"Digite a quantidade de dolares que voce possui\"))\n",
        "Cotacao= float (input(\"Digite a cotacao do dolar atual\"))\n",
        "Vreais= Dol*Cotacao\n",
        "print(\"O valor que voce possui em reais e:R$%.2f\" %Vreais)"
      ],
      "execution_count": null,
      "outputs": [
        {
          "output_type": "stream",
          "text": [
            "Digite a quantidade de dolares que voce possui300\n",
            "Digite a cotacao do dolar atual5.40\n",
            "O valor que voce possui em reais e:R$1620.00\n"
          ],
          "name": "stdout"
        }
      ]
    },
    {
      "cell_type": "code",
      "metadata": {
        "id": "ySkBqMRPoJoB",
        "colab": {
          "base_uri": "https://localhost:8080/"
        },
        "outputId": "70bdd922-f72a-4cc3-f59d-469b90e98360"
      },
      "source": [
        "Dep=float(input (\"Digite o valor depositado\"))\n",
        "Juro=0.7/100\n",
        "Rend=Dep+Dep*Juro\n",
        "print(\"O valor apos 1 mes e: R$%.2f\" %Rend)"
      ],
      "execution_count": null,
      "outputs": [
        {
          "output_type": "stream",
          "text": [
            "Digite o valor depositado953\n",
            "O valor apos 1 mes e: R$959.67\n"
          ],
          "name": "stdout"
        }
      ]
    },
    {
      "cell_type": "code",
      "metadata": {
        "id": "eu7iktcxqBY2",
        "colab": {
          "base_uri": "https://localhost:8080/"
        },
        "outputId": "67962e37-8948-4d93-e186-d0727f42dcd4"
      },
      "source": [
        "Compra= float(input(\"Digite o valor da compra\"))\n",
        "Prest=Compra/5\n",
        "print (Compra)\n",
        "print (Prest)"
      ],
      "execution_count": null,
      "outputs": [
        {
          "output_type": "stream",
          "text": [
            "Digite o valor da compra650\n",
            "650.0\n",
            "130.0\n"
          ],
          "name": "stdout"
        }
      ]
    },
    {
      "cell_type": "code",
      "metadata": {
        "colab": {
          "base_uri": "https://localhost:8080/"
        },
        "id": "w9k7l7Sflqbr",
        "outputId": "560ea134-7019-4db2-f962-f4612d64fe99"
      },
      "source": [
        "Custo=float (input (\"Digite o preço de custo do produto \"))\n",
        "Aum=float (input (\"Digite a porcentagem de aumento \"))\n",
        "Venda= Custo+Custo*Aum/100\n",
        "print (\"O valor da venda será de: R$ %.2f \" %Venda)\n"
      ],
      "execution_count": null,
      "outputs": [
        {
          "output_type": "stream",
          "text": [
            "Digite o preço de custo do produto 1200\n",
            "Digite a porcentagem de aumento 10\n",
            "O valor da venda será de: R$ 1320.00 \n"
          ],
          "name": "stdout"
        }
      ]
    },
    {
      "cell_type": "code",
      "metadata": {
        "colab": {
          "base_uri": "https://localhost:8080/"
        },
        "id": "LCMqCLz3mxb8",
        "outputId": "853416ec-8b5e-47de-8a9f-a5cd1abda9a9"
      },
      "source": [
        "Cf = float(input ( \"Digite o custo de fabrica do seu carro \"))\n",
        "imp= Cf*0.45\n",
        "Imp2=imp+Cf\n",
        "Porcdist= Imp2*0.28\n",
        "CT= Cf+imp+Porcdist\n",
        "print (\" O custo total do seu carro é: %.2f \" %CT)"
      ],
      "execution_count": null,
      "outputs": [
        {
          "output_type": "stream",
          "text": [
            "Digite o custo de fabrica do seu carro 32000\n",
            " O custo total do seu carro é: 59392.00 \n"
          ],
          "name": "stdout"
        }
      ]
    },
    {
      "cell_type": "code",
      "metadata": {
        "colab": {
          "base_uri": "https://localhost:8080/"
        },
        "id": "nxY2CmpZnwbh",
        "outputId": "53dce7e3-4f10-40ec-a01a-cf6dd76f26e9"
      },
      "source": [
        "N1=float (input (\"Digite um número\"))\n",
        "if N1>10:\n",
        "  print (\"O número é maior do que 10\")"
      ],
      "execution_count": null,
      "outputs": [
        {
          "output_type": "stream",
          "text": [
            "Digite um número25\n",
            "O número é maior do que 10\n"
          ],
          "name": "stdout"
        }
      ]
    },
    {
      "cell_type": "code",
      "metadata": {
        "colab": {
          "base_uri": "https://localhost:8080/"
        },
        "id": "9BAbgUqKpCF0",
        "outputId": "e40bea7b-b736-4179-f4f7-1a0769014ca5"
      },
      "source": [
        "N1=int(input (\"Digite um número \"))\n",
        "N2=int(input (\"Digite um número \"))\n",
        "if N1>N2:\n",
        " print (\"O primeiro número é o maior\")\n",
        "elif N2>N1:\n",
        " print (\"O segundo número é o maior\")\n",
        "else:\n",
        "   print (\"Os dois números são iguais\")"
      ],
      "execution_count": null,
      "outputs": [
        {
          "output_type": "stream",
          "text": [
            "Digite um número 6\n",
            "Digite um número 9\n",
            "O segundo número é o maior\n"
          ],
          "name": "stdout"
        }
      ]
    },
    {
      "cell_type": "code",
      "metadata": {
        "colab": {
          "base_uri": "https://localhost:8080/"
        },
        "id": "-SR_ydDDpfMo",
        "outputId": "e0fb5de4-da93-4850-d467-784b59ee6902"
      },
      "source": [
        "N1=float (input (\"Digite um número \"))\n",
        "if N1>100 and N1<200:\n",
        " print (\"O número está entre 100 e 200\")\n",
        "else:\n",
        " print (\"O número não está entre 100 e 200\")"
      ],
      "execution_count": null,
      "outputs": [
        {
          "output_type": "stream",
          "text": [
            "Digite um número 201\n",
            "O número não está entre 100 e 200\n"
          ],
          "name": "stdout"
        }
      ]
    },
    {
      "cell_type": "code",
      "metadata": {
        "colab": {
          "base_uri": "https://localhost:8080/"
        },
        "id": "RbvEdWvVqMlD",
        "outputId": "bda701e1-4c10-4608-8ced-10a07e496cbb"
      },
      "source": [
        "Aluno= str(input(\"Digite o nome do aluno \"))\n",
        "A1= float(input (\"Digite o valor da primeira prova \"))\n",
        "A2= float(input (\"Digite o valor da segunda prova \"))\n",
        "A3= float(input (\"Digite o valor da terceira prova \"))\n",
        "Media=(A1+A2+A3)/3\n",
        "print (Aluno)\n",
        "if Media>7:\n",
        "    print (\"Aprovado\")\n",
        "elif Media<5:\n",
        "    print (\"Reprovado\")\n",
        "else:\n",
        "    print (\"Recuperação\")"
      ],
      "execution_count": null,
      "outputs": [
        {
          "output_type": "stream",
          "text": [
            "Digite o nome do aluno Cinthia\n",
            "Digite o valor da primeira prova 8\n",
            "Digite o valor da segunda prova 7\n",
            "Digite o valor da terceira prova 9\n",
            "Cinthia\n",
            "Aprovado\n"
          ],
          "name": "stdout"
        }
      ]
    },
    {
      "cell_type": "code",
      "metadata": {
        "colab": {
          "base_uri": "https://localhost:8080/"
        },
        "id": "7LhWTymqqvbA",
        "outputId": "8dadbcda-422a-400f-fc5f-e0fb44ab3c01"
      },
      "source": [
        "X=1\n",
        "Y=0\n",
        "while X<=80:\n",
        "    N1=float (input (\"Digite um número \"))\n",
        "    if N1>9 and N1<151:\n",
        "        Y=Y+1\n",
        "    X=X+1\n",
        "print (\" %.0d números estão entre 10(inclusive) e 151(inclusive)\" %Y)"
      ],
      "execution_count": null,
      "outputs": [
        {
          "output_type": "stream",
          "text": [
            "Digite um número 3\n",
            "Digite um número 96\n",
            "Digite um número 78\n",
            "Digite um número 14\n",
            "Digite um número 62\n",
            " 4 números estão entre 10(inclusive) e 151(inclusive)\n"
          ],
          "name": "stdout"
        }
      ]
    },
    {
      "cell_type": "code",
      "metadata": {
        "colab": {
          "base_uri": "https://localhost:8080/"
        },
        "id": "2WFBCGX2tp4q",
        "outputId": "3f189df4-6e38-4309-882e-6ae230bab7b5"
      },
      "source": [
        "X=1\n",
        "while X<=75:\n",
        "    Idade=int(input (\"Digite sua idade \"))\n",
        "    if Idade<18:\n",
        "        print (\"Menor de idade\")\n",
        "    else:\n",
        "        print (\"Maior de idade\")\n",
        "    X=X+1\n",
        "  "
      ],
      "execution_count": null,
      "outputs": [
        {
          "output_type": "stream",
          "text": [
            "Digite sua idade 20\n",
            "Maior de idade\n",
            "Digite sua idade 18\n",
            "Maior de idade\n",
            "Digite sua idade 15\n",
            "Menor de idade\n",
            "Digite sua idade 13\n",
            "Menor de idade\n",
            "Digite sua idade 25\n",
            "Maior de idade\n"
          ],
          "name": "stdout"
        }
      ]
    },
    {
      "cell_type": "code",
      "metadata": {
        "colab": {
          "base_uri": "https://localhost:8080/"
        },
        "id": "KhcVhT3XuP5G",
        "outputId": "a8d3bd2c-47a8-4913-cabe-fa937bf39f0d"
      },
      "source": [
        "X=1\n",
        "Y=0\n",
        "Z=0\n",
        "while X<=56:\n",
        "    Nome= str(input (\"Digite seu nome \"))\n",
        "    Sexo= str(input (\"Digite seu sexo (M) ou (F) \"))\n",
        "    print (Nome)\n",
        "    print (Sexo)\n",
        "    if Sexo == \"M\":\n",
        "        Y=Y+1\n",
        "    elif Sexo == \"F\":\n",
        "        Z=Z+1\n",
        "    X=X+1\n",
        "print (\"O número de mulheres foi : %.0d \" %Z)\n",
        "print (\"O número de homens foi : %.0d \" %Y)"
      ],
      "execution_count": null,
      "outputs": [
        {
          "output_type": "stream",
          "text": [
            "Digite seu nome Cinthia\n",
            "Digite seu sexo (M) ou (F) F\n",
            "Cinthia\n",
            "F\n",
            "Digite seu nome Clayton\n",
            "Digite seu sexo (M) ou (F) M\n",
            "Clayton\n",
            "M\n",
            "Digite seu nome Pedro\n",
            "Digite seu sexo (M) ou (F) M\n",
            "Pedro\n",
            "M\n",
            "Digite seu nome Romeu\n",
            "Digite seu sexo (M) ou (F) M\n",
            "Romeu\n",
            "M\n",
            "Digite seu nome Julia\n",
            "Digite seu sexo (M) ou (F) F\n",
            "Julia\n",
            "F\n",
            "O número de mulheres foi : 2 \n",
            "O número de homens foi : 3 \n"
          ],
          "name": "stdout"
        }
      ]
    },
    {
      "cell_type": "code",
      "metadata": {
        "colab": {
          "base_uri": "https://localhost:8080/"
        },
        "id": "dBSea1Scw-hV",
        "outputId": "9cb85c96-0bdf-4d20-ec60-784e7b4b0ca9"
      },
      "source": [
        "DescT=0\n",
        "VTveiculo=0\n",
        "NumcarrosT=0\n",
        "Numcarros=0\n",
        "while True:\n",
        "    Vveiculo=float (input (\"Digite o valor do veículo \"))\n",
        "    NumcarrosT=NumcarrosT+1\n",
        "    Ano=int (input (\"Digite o ano do veículo \"))\n",
        "    if Ano<=2000:\n",
        "        Numcarros=Numcarros+1\n",
        "        Desc=Vveiculo*0.12\n",
        "        Vveiculo=Vveiculo-Desc\n",
        "    else:\n",
        "        Desc=Vveiculo*0.07\n",
        "        Vveiculo=Vveiculo-Desc\n",
        "    DescT=DescT+Desc\n",
        "    VTveiculo=VTveiculo+Vveiculo\n",
        "    print (\"O valor do veículo será: R$%.2f \" %Vveiculo)\n",
        "    print(\"O valor do desconto será: R$%.2f \" %Desc)\n",
        "    Perguntafinal=str (input (\"Deseja continuar calculando possíveis descontos? S/N \"))\n",
        "    if Perguntafinal == \"N\":\n",
        "       break\n",
        "print (\"O valor total dos veículos será: R$%.2f \" %VTveiculo)\n",
        "print (\"O valor total dos descontos será: R$%.2f \" %DescT)\n",
        "print (\"O número total de veículos é: %.0d \" %NumcarrosT)\n",
        "print (\"O número de veículos com ano até 2000 é: %.0d \" %Numcarros)"
      ],
      "execution_count": null,
      "outputs": [
        {
          "output_type": "stream",
          "text": [
            "Digite o valor do veículo 32000\n",
            "Digite o ano do veículo 1990\n",
            "O valor do veículo será: R$28160.00 \n",
            "O valor do desconto será: R$3840.00 \n",
            "Deseja continuar calculando possíveis descontos? S/N S\n",
            "Digite o valor do veículo 18000\n",
            "Digite o ano do veículo 1999\n",
            "O valor do veículo será: R$15840.00 \n",
            "O valor do desconto será: R$2160.00 \n",
            "Deseja continuar calculando possíveis descontos? S/N N\n",
            "O valor total dos veículos será: R$44000.00 \n",
            "O valor total dos descontos será: R$6000.00 \n",
            "O número total de veículos é: 2 \n",
            "O número de veículos com ano até 2000 é: 2 \n"
          ],
          "name": "stdout"
        }
      ]
    },
    {
      "cell_type": "code",
      "metadata": {
        "colab": {
          "base_uri": "https://localhost:8080/"
        },
        "id": "Cq1_SkpFyODX",
        "outputId": "d6daa620-4c9a-41a5-8c55-f3bca0a4776d"
      },
      "source": [
        "QtdT=0\n",
        "QtdApto=0\n",
        "while True:\n",
        "    Nome=str(input (\" Digite seu Nome ou a para sair \"))\n",
        "    if Nome==\"a\":\n",
        "        break\n",
        "    QtdT=QtdT+1\n",
        "    Sexo=str(input (\"Digite seu sexo (M) ou (F) \"))\n",
        "    Idade=int(input(\"Digite sua idade \"))\n",
        "    Saude=str(input (\"Digite sua saúde (Boa) ou (Ruim) \"))\n",
        "    if Sexo==\"F\":\n",
        "        print (\"Não apta\")\n",
        "        break\n",
        "    elif Idade<18:\n",
        "        print (\"Não apto\")\n",
        "    elif Saude==\"Ruim\":\n",
        "        print (\"Não apto\")\n",
        "    else:\n",
        "        print (\"Apto\")\n",
        "        QtdApto=QtdApto+1\n",
        "print (\"A quantidade total de pessoas que se alistaram foi de: %.0d \" %QtdT)\n",
        "print (\"A quantidade total de pessoas aptas foi de: %.0d \" %QtdApto)"
      ],
      "execution_count": null,
      "outputs": [
        {
          "output_type": "stream",
          "text": [
            " Digite seu Nome ou a para sair Cinthia\n",
            "Digite seu sexo (M) ou (F) F\n",
            "Digite sua idade 17\n",
            "Digite sua saúde (Boa) ou (Ruim) Boa\n",
            "Não apta\n",
            "A quantidade total de pessoas que se alistaram foi de: 1 \n",
            "A quantidade total de pessoas aptas foi de: 0 \n"
          ],
          "name": "stdout"
        }
      ]
    },
    {
      "cell_type": "code",
      "metadata": {
        "colab": {
          "base_uri": "https://localhost:8080/"
        },
        "id": "hQ6-vNv2yOT6",
        "outputId": "41d256b6-0ef0-4b33-88fb-17b3bf7db4cf"
      },
      "source": [
        "X=1\n",
        "PcustoT=0\n",
        "PvendaT=0\n",
        "while X<=40:\n",
        "    Pcusto=float (input(\"Digite o valor pago no produto: R$ \"))\n",
        "    PcustoT=PcustoT+Pcusto\n",
        "    Pvenda=float (input(\"Digite o valor de venda do produto: R$ \"))\n",
        "    PvendaT=PvendaT+Pvenda\n",
        "    if Pcusto>Pvenda:\n",
        "        Result=Pcusto-Pvenda\n",
        "        print (\"Prejuízo de R$%.2f no produto %.0d\" %(Result, X))\n",
        "    elif Pvenda>Pcusto:\n",
        "        Result=Pvenda-Pcusto\n",
        "        print (\"Lucro de R$%.2f no produto %.0d\" %(Result, X))\n",
        "    else:\n",
        "        print (\"Empate entre preço de compra e venda do produto\")\n",
        "    X=X+1\n",
        "MediaC= PcustoT/40\n",
        "print (\"A média de custo é de: R$%.2f \" %MediaC)\n",
        "MediaV= PvendaT/40\n",
        "print (\"A média de venda é de: R$%.2f \" %MediaV)"
      ],
      "execution_count": null,
      "outputs": [
        {
          "output_type": "stream",
          "text": [
            "Digite o valor pago no produto: R$ 5\n",
            "Digite o valor de venda do produto: R$ 20\n",
            "Lucro de R$15.00 no produto 1\n",
            "Digite o valor pago no produto: R$ 20\n",
            "Digite o valor de venda do produto: R$ 6\n",
            "Prejuízo de R$14.00 no produto 2\n",
            "Digite o valor pago no produto: R$ 3\n",
            "Digite o valor de venda do produto: R$ 5\n",
            "Lucro de R$2.00 no produto 3\n",
            "Digite o valor pago no produto: R$ 60\n",
            "Digite o valor de venda do produto: R$ 1\n",
            "Prejuízo de R$59.00 no produto 4\n",
            "A média de custo é de: R$2.20 \n",
            "A média de venda é de: R$0.80 \n"
          ],
          "name": "stdout"
        }
      ]
    },
    {
      "cell_type": "code",
      "metadata": {
        "colab": {
          "base_uri": "https://localhost:8080/"
        },
        "id": "yDN9CQGd46Vw",
        "outputId": "464a74eb-8387-4d2d-b063-ec9eeb4cca41"
      },
      "source": [
        "N1=float (input (\"Digite um número \"))\n",
        "if N1>80 or N1<25 or N1==40:\n",
        "    print (\" O número é maior que 80 ou menor que 25 ou igual a 40\")"
      ],
      "execution_count": null,
      "outputs": [
        {
          "output_type": "stream",
          "text": [
            "Digite um número 22\n",
            " O número é maior que 80 ou menor que 25 ou igual a 40\n"
          ],
          "name": "stdout"
        }
      ]
    },
    {
      "cell_type": "code",
      "metadata": {
        "colab": {
          "base_uri": "https://localhost:8080/"
        },
        "id": "ji_mKxba5hNf",
        "outputId": "e8b5ace3-e0f4-42ed-f4cf-c88d61218e09"
      },
      "source": [
        "while True:\n",
        "    N=float(input (\"Digite um número qualquer ou 666 para sair \"))\n",
        "    if N==666:\n",
        "        break\n",
        "    elif N>0:\n",
        "        print (\"O número é positivo\")\n",
        "    elif N<0:\n",
        "        print (\"O número é negativo\")\n",
        "    else:\n",
        "        print (\"O número é neutro\")"
      ],
      "execution_count": null,
      "outputs": [
        {
          "output_type": "stream",
          "text": [
            "Digite um número qualquer ou 666 para sair 665\n",
            "O número é positivo\n",
            "Digite um número qualquer ou 666 para sair -1\n",
            "O número é negativo\n",
            "Digite um número qualquer ou 666 para sair 666\n"
          ],
          "name": "stdout"
        }
      ]
    },
    {
      "cell_type": "code",
      "metadata": {
        "colab": {
          "base_uri": "https://localhost:8080/"
        },
        "id": "o3dNdluO6WPQ",
        "outputId": "06905ee1-f408-4166-f5e5-0569140be861"
      },
      "source": [
        "N1=float (input (\"Digite um número \"))\n",
        "N2=float (input (\"Digite um número \"))\n",
        "if N1==N2:\n",
        "    print (\"Os números são iguais\")\n",
        "else:\n",
        "    print (\"Os números são diferentes\")\n",
        "    if N1>N2:\n",
        "        print (\"O primeiro número é o maior\")\n",
        "    else:\n",
        "        print (\"O segundo número é o maior\")"
      ],
      "execution_count": null,
      "outputs": [
        {
          "output_type": "stream",
          "text": [
            "Digite um número 2\n",
            "Digite um número 6\n",
            "Os números são diferentes\n",
            "O segundo número é o maior\n"
          ],
          "name": "stdout"
        }
      ]
    },
    {
      "cell_type": "code",
      "metadata": {
        "colab": {
          "base_uri": "https://localhost:8080/"
        },
        "id": "HyRrzqsz64Za",
        "outputId": "8d565fb1-7e7c-4f32-e8b2-2fb6922b5848"
      },
      "source": [
        "N=int(input (\"Digite um dos números a seguir: 1,2,3,4,5 \"))\n",
        "if N==1:\n",
        "    print (\"Um\")\n",
        "elif N==2:\n",
        "    print (\"Dois\")\n",
        "elif N==3:\n",
        "    print (\"Três\")  \n",
        "elif N==4:\n",
        "    print (\"Quatro\")\n",
        "elif N==5:\n",
        "    print (\"Cinco\")\n",
        "else:\n",
        "    print (\"Número inválido\")"
      ],
      "execution_count": null,
      "outputs": [
        {
          "output_type": "stream",
          "text": [
            "Digite um dos números a seguir: 1,2,3,4,5 5\n",
            "Cinco\n"
          ],
          "name": "stdout"
        }
      ]
    },
    {
      "cell_type": "code",
      "metadata": {
        "colab": {
          "base_uri": "https://localhost:8080/"
        },
        "id": "ZBWEz1JS7K34",
        "outputId": "9cad1b1f-86cd-453a-f7ea-7bfade6f40e6"
      },
      "source": [
        "DescT=0\n",
        "VTveiculo=0\n",
        "while True:\n",
        "    Vveiculo=float (input (\"Digite o valor do veículo ou 0 para sair \"))\n",
        "    if Vveiculo<=0:\n",
        "        break\n",
        "    Comb=str(input (\"Digite o tipo de combustivel do veículo \"))\n",
        "    if Comb==\"alcool\":\n",
        "        Desc=Vveiculo*0.25\n",
        "        Vveiculo=Vveiculo-Desc\n",
        "    elif Comb==\"gasolina\":\n",
        "        Desc=Vveiculo*0.21\n",
        "        Vveiculo=Vveiculo-Desc\n",
        "    elif Comb==\"diesel\":\n",
        "        Desc=Vveiculo*0.14\n",
        "        Vveiculo=Vveiculo-Desc\n",
        "    DescT=DescT+Desc\n",
        "    VTveiculo=VTveiculo+Vveiculo\n",
        "    print (\"O valor do veículo é R$%.2f \" %Vveiculo)\n",
        "    print(\"O valor dos descontos é R$%.2f \" %Desc)\n",
        "print (\"O valor total dos veículos é R$%.2f \" %VTveiculo)\n",
        "print (\"O valor total dos descontos é R$%.2f \" %DescT)"
      ],
      "execution_count": null,
      "outputs": [
        {
          "output_type": "stream",
          "text": [
            "Digite o valor do veículo ou 0 para sair 9000\n",
            "Digite o tipo de combustivel do veículo alcool\n",
            "O valor do veículo é R$6750.00 \n",
            "O valor dos descontos é R$2250.00 \n",
            "Digite o valor do veículo ou 0 para sair 2000\n",
            "Digite o tipo de combustivel do veículo gasolina\n",
            "O valor do veículo é R$1580.00 \n",
            "O valor dos descontos é R$420.00 \n",
            "Digite o valor do veículo ou 0 para sair 0\n",
            "O valor total dos veículos é R$8330.00 \n",
            "O valor total dos descontos é R$2670.00 \n"
          ],
          "name": "stdout"
        }
      ]
    },
    {
      "cell_type": "code",
      "metadata": {
        "id": "TmyLhmfP_FRG",
        "colab": {
          "base_uri": "https://localhost:8080/"
        },
        "outputId": "aa7ef0ec-0d98-499b-9c8e-4f7a8d75fc6e"
      },
      "source": [
        " \n",
        "x=1\n",
        "ReajT=0\n",
        "while x<=2:\n",
        "    Nome=str(input(\"Digite o nome do funcionário \"))\n",
        "    Sal=float(input (\"Digite o salário do funcionário \"))\n",
        "    SalM=float(input (\"Digite o salário mínimo \"))\n",
        "    if Sal<=(SalM*3):\n",
        "        Reaj= Sal*0.5\n",
        "        SalN=Sal+Reaj\n",
        "    elif Sal>=(SalM*3) and Sal<=(SalM*10):\n",
        "        Reaj= Sal*0.2\n",
        "        SalN=Sal+Reaj\n",
        "    elif Sal>=(SalM*10) and Sal<=(SalM*20):\n",
        "        Reaj= Sal*0.15\n",
        "        SalN=Sal+Reaj\n",
        "    else:\n",
        "        Reaj= Sal*0.1\n",
        "        SalN=Sal+Reaj\n",
        "    ReajT=ReajT+Reaj\n",
        "    x=x+1\n",
        "    print (\"O funcionário %s vai receber R$%.2f de reajuste e seu salário passa a ser R$%.2f\" %(Nome, Reaj, SalN))\n",
        "print (\"Com esse reajuste, a empresa vai aumentar R$%.2f na sua folha de pagamento \" %ReajT)"
      ],
      "execution_count": null,
      "outputs": [
        {
          "output_type": "stream",
          "text": [
            "Digite o nome do funcionário Fabiano\n",
            "Digite o salário do funcionário 1200\n",
            "Digite o salário mínimo 1010\n",
            "O funcionário Fabiano vai receber R$600.00 de reajuste e seu salário passa a ser R$1800.00\n",
            "Digite o nome do funcionário Amanda\n",
            "Digite o salário do funcionário 1350\n",
            "Digite o salário mínimo 1010\n",
            "O funcionário Amanda vai receber R$675.00 de reajuste e seu salário passa a ser R$2025.00\n",
            "Com esse reajuste, a empresa vai aumentar R$1275.00 na sua folha de pagamento \n"
          ],
          "name": "stdout"
        }
      ]
    },
    {
      "cell_type": "code",
      "metadata": {
        "id": "5Ji3fwZ6LGnj"
      },
      "source": [
        ""
      ],
      "execution_count": null,
      "outputs": []
    },
    {
      "cell_type": "code",
      "metadata": {
        "id": "rR7tU5SjDS3c",
        "colab": {
          "base_uri": "https://localhost:8080/"
        },
        "outputId": "f6c33a59-c154-48f7-ecf6-c2a56e60f687"
      },
      "source": [
        " \n",
        "while True:\n",
        "    N1=int(input (\"Digite um número inteiro \"))\n",
        "    N2=int(input (\"Digite um número inteiro diferente do anterior \"))\n",
        "    if N2==N1:\n",
        "        print(\"Número inválido, tente novamente \")\n",
        "        break\n",
        "    else:\n",
        "        N3=int(input(\"Digite um número inteiro diferente dos anteriores \"))\n",
        "        if N3==N2 or N3==N1:\n",
        "            print(\"Número inválido, tente novamente \")\n",
        "            break\n",
        "        else:\n",
        "            if N1>N2 and N1>N3:\n",
        "                if N3>N2:\n",
        "                    print(\"%.0d, %.0d, %.0d \" %(N2, N3, N1))\n",
        "                else:\n",
        "                    print(\"%.0d, %.0d, %.0d \" %(N3, N2, N1))\n",
        "            elif N2>N1 and N2>N3:\n",
        "                if N1>N3:\n",
        "                    print(\"%.0d, %.0d, %.0d \" %(N3, N1, N2))\n",
        "                else:\n",
        "                    print(\"%.0d, %.0d, %.0d \" %(N1, N3, N2))\n",
        "            else:         \n",
        "                if N1>N2:\n",
        "                    print(\"%.0d, %.0d, %.0d \" %(N2, N1, N3))\n",
        "                else:\n",
        "                    print(\"%.0d, %.0d, %.0d \" %(N1, N2, N3))"
      ],
      "execution_count": null,
      "outputs": [
        {
          "output_type": "stream",
          "text": [
            "Digite um número inteiro 9\n",
            "Digite um número inteiro diferente do anterior 5\n",
            "Digite um número inteiro diferente dos anteriores 4\n",
            "4, 5, 9 \n",
            "Digite um número inteiro 7\n",
            "Digite um número inteiro diferente do anterior 4\n",
            "Digite um número inteiro diferente dos anteriores 1\n",
            "1, 4, 7 \n"
          ],
          "name": "stdout"
        }
      ]
    },
    {
      "cell_type": "code",
      "metadata": {
        "colab": {
          "base_uri": "https://localhost:8080/"
        },
        "id": "iZTCU1135_Tc",
        "outputId": "1e1a8710-213e-4e47-ff1c-96fd44d0cce5"
      },
      "source": [
        "A=float(input (\"Digite um número \"))\n",
        "B=float(input (\"Digite um número \"))\n",
        "C=str(input (\"Digite um Operador aritmético \"))\n",
        "while True:\n",
        "    if C==\"/\":\n",
        "        if B==0:\n",
        "            print (\"Impossível dividir por 0\")\n",
        "            break\n",
        "        else:\n",
        "            print (A/B)\n",
        "    elif C==\"*\":\n",
        "        print (A*B)\n",
        "    elif C==\"-\":\n",
        "        print (A-B)\n",
        "    elif C==\"+\":\n",
        "        print (A+B)\n",
        "    else:\n",
        "        print (\"Operador aritmético não definido\")\n",
        "    break"
      ],
      "execution_count": 5,
      "outputs": [
        {
          "output_type": "stream",
          "text": [
            "Digite um número 10\n",
            "Digite um número 0\n",
            "Digite um Operador aritmético /\n",
            "Impossível dividir por 0\n"
          ],
          "name": "stdout"
        }
      ]
    },
    {
      "cell_type": "code",
      "metadata": {
        "colab": {
          "base_uri": "https://localhost:8080/",
          "height": 129
        },
        "id": "k2mzr0nl6UjQ",
        "outputId": "fda04c0f-48a8-4feb-fdd6-bc31b427988c"
      },
      "source": [
        "A=int(input(\"Digite um número inteiro positivo \"))\n",
        "B=int(input(\"Digite um número inteiro positivo \"))\n",
        "C=int(input(\"Digite um número inteiro positivo \"))\n",
        "if A<=0 or B<=0 or C<=0:\n",
        "    print (\"Valores incorretos\")\n",
        "    break\n",
        "SubCB=abs(C-B)\n",
        "SubAB=abs(A-B)\n",
        "SubCA=abs(C-A)\n",
        "SomaCB=abs(C-B)\n",
        "SomaAB=abs(A-B)\n",
        "SomaCA=abs(C-A)\n",
        "if A>SubCB and A<SomaCB:\n",
        "    if B>SubCA and B<SomaCA:\n",
        "        if C>SubAB and C<SomaAB:\n",
        "            print (\"Os números podem formar um triângulo\")\n",
        "            if A==B and C==B:\n",
        "                print (\"triângulo equilátero\")\n",
        "            elif A!=B and A!=C and B!=C :\n",
        "                print (\"triângulo escaleno\")\n",
        "            else:\n",
        "                print (\"triângulo isósceles\")\n",
        "        else:\n",
        "        print (\"Os números não podem formar um triângulo\")\n",
        "    else:\n",
        "        print (\"Os números não podem formar um triângulo\")\n",
        "else:\n",
        "    print (\"Os números não podem formar um triângulo\")"
      ],
      "execution_count": null,
      "outputs": [
        {
          "output_type": "error",
          "ename": "IndentationError",
          "evalue": "ignored",
          "traceback": [
            "\u001b[0;36m  File \u001b[0;32m\"<ipython-input-3-e4a02727af11>\"\u001b[0;36m, line \u001b[0;32m24\u001b[0m\n\u001b[0;31m    print (\"Os números não podem formar um triângulo\")\u001b[0m\n\u001b[0m        ^\u001b[0m\n\u001b[0;31mIndentationError\u001b[0m\u001b[0;31m:\u001b[0m expected an indented block\n"
          ]
        }
      ]
    },
    {
      "cell_type": "code",
      "metadata": {
        "colab": {
          "base_uri": "https://localhost:8080/",
          "height": 163
        },
        "id": "pwwp1Vny6iAo",
        "outputId": "e5dc1601-f045-4f35-dd9b-855dc05d4554"
      },
      "source": [
        "Nivel=int(input(\"Digite o nível do professor: 1, 2 ou 3\"))\n",
        "QtdH=float(input (\"Digite a quantidade de horas que o professor deu aula no mês \"))\n",
        "if Nivel==1:\n",
        "    Sal=QtdH*12\n",
        "    print (\" O salário do professor é: R$%.2f \" % Sal)\n",
        "elif Nivel==2:\n",
        "    Sal=QtdH*17\n",
        "    print (\" O salário do professor é: R$%.2f \" % Sal)\n",
        "elif Nivel==3:\n",
        "    Sal=QtdH*25\n",
        "    print (\" O salário do professor é: R$%.2f \" % Sal)\n",
        "else:\n",
        "    print (\"Nível incorreto\")\n",
        "    break"
      ],
      "execution_count": null,
      "outputs": [
        {
          "output_type": "stream",
          "text": [
            "Digite o nível do professor: 1, 2 ou 32\n",
            "Digite a quantidade de horas que o professor deu aula no mês 48\n"
          ],
          "name": "stdout"
        },
        {
          "output_type": "error",
          "ename": "SyntaxError",
          "evalue": "ignored",
          "traceback": [
            "\u001b[0;36m  File \u001b[0;32m\"<ipython-input-5-7a376761f820>\"\u001b[0;36m, line \u001b[0;32m14\u001b[0m\n\u001b[0;31m    break\u001b[0m\n\u001b[0m    ^\u001b[0m\n\u001b[0;31mSyntaxError\u001b[0m\u001b[0;31m:\u001b[0m 'break' outside loop\n"
          ]
        }
      ]
    },
    {
      "cell_type": "code",
      "metadata": {
        "colab": {
          "base_uri": "https://localhost:8080/"
        },
        "id": "yIJGe9Q861FM",
        "outputId": "4f375bfd-b230-4f0e-a3af-a6c7e4eb1cb4"
      },
      "source": [
        "Idade=int(input (\"Digite a idade do nadador \"))\n",
        "if Idade>4 and Idade<8:\n",
        "    print (\"Infantil A\")\n",
        "elif Idade>7 and Idade<11:\n",
        "    print (\"Infantil B\")\n",
        "elif Idade>10 and Idade<14:\n",
        "    print (\"juvenil A\")\n",
        "elif Idade>13 and Idade<18:\n",
        "    print (\"juvenil B\")\n",
        "elif Idade>17 and Idade<26:\n",
        "    print (\"Senior\")\n",
        "else:\n",
        "    print (\"Idade fora da faixa etária\")\n",
        "  "
      ],
      "execution_count": null,
      "outputs": [
        {
          "output_type": "stream",
          "text": [
            "Digite a idade do nadador 19\n",
            "Senior\n"
          ],
          "name": "stdout"
        }
      ]
    },
    {
      "cell_type": "code",
      "metadata": {
        "colab": {
          "base_uri": "https://localhost:8080/",
          "height": 163
        },
        "id": "62UvKF-F7GsC",
        "outputId": "6baa2845-f8a6-4d7d-cafb-518ffe78241d"
      },
      "source": [
        "ConsM=float(input (\"Digite o consumo mensal (kWh) \"))\n",
        "Tipo=str(input (\"Digite o tipo de cliente (Residência (R), Comércio (C) Indústria (I) \"))\n",
        "if Tipo==R:\n",
        "    Valor=ConsM*0.6\n",
        "    print (\"O valor da conta foi de: R$%.2f \" %Valor)\n",
        "elif Tipo==C:\n",
        "    Valor=ConsM*0.48\n",
        "    print (\"O valor da conta foi de: R$%.2f \" %Valor)\n",
        "elif Tipo==I:\n",
        "    Valor=ConsM*1.29\n",
        "    print (\"O valor da conta foi de: R$%.2f \" %Valor)\n",
        "else:\n",
        "    print (\"Tipo inválido, digite R, C ou I\")\n",
        "    break"
      ],
      "execution_count": null,
      "outputs": [
        {
          "output_type": "stream",
          "text": [
            "Digite o consumo mensal (kWh) 0.50\n",
            "Digite o tipo de cliente (Residência (R), Comércio (C) Indústria (I) 0.65\n"
          ],
          "name": "stdout"
        },
        {
          "output_type": "error",
          "ename": "SyntaxError",
          "evalue": "ignored",
          "traceback": [
            "\u001b[0;36m  File \u001b[0;32m\"<ipython-input-9-714538c6725b>\"\u001b[0;36m, line \u001b[0;32m14\u001b[0m\n\u001b[0;31m    break\u001b[0m\n\u001b[0m    ^\u001b[0m\n\u001b[0;31mSyntaxError\u001b[0m\u001b[0;31m:\u001b[0m 'break' outside loop\n"
          ]
        }
      ]
    },
    {
      "cell_type": "code",
      "metadata": {
        "colab": {
          "base_uri": "https://localhost:8080/"
        },
        "id": "26_n5niv7l7P",
        "outputId": "c8803df7-fc8b-4970-b6bc-17022f453dc2"
      },
      "source": [
        "TrabL=float (input (\"Digite a nota do trabalho de laboratório \"))\n",
        "AvSem=float (input (\"Digite a nota da avaliação semestral \"))\n",
        "ExFinal=float (input (\"Digite a nota do exame final \"))\n",
        "NotaTotal=(TrabL+AvSem*3+ExFinal*5)/9\n",
        "print (\"A nota final é: %.1f \" %NotaTotal)"
      ],
      "execution_count": null,
      "outputs": [
        {
          "output_type": "stream",
          "text": [
            "Digite a nota do trabalho de laboratório 10\n",
            "Digite a nota da avaliação semestral 8\n",
            "Digite a nota do exame final 9\n",
            "A nota final é: 8.8 \n"
          ],
          "name": "stdout"
        }
      ]
    },
    {
      "cell_type": "markdown",
      "metadata": {
        "id": "HZVPoN_-rJy-"
      },
      "source": [
        ""
      ]
    }
  ]
}