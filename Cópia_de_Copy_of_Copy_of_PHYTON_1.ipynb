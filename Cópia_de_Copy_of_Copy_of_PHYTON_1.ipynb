{
  "nbformat": 4,
  "nbformat_minor": 0,
  "metadata": {
    "colab": {
      "name": "Cópia de Copy of Copy of PHYTON 1",
      "provenance": [],
      "collapsed_sections": [],
      "authorship_tag": "ABX9TyNDGup/zwJG/xN8VwdxSanh",
      "include_colab_link": true
    },
    "kernelspec": {
      "display_name": "Python 3",
      "name": "python3"
    }
  },
  "cells": [
    {
      "cell_type": "markdown",
      "metadata": {
        "id": "view-in-github",
        "colab_type": "text"
      },
      "source": [
        "<a href=\"https://colab.research.google.com/github/Clayton100/Phyton/blob/main/C%C3%B3pia_de_Copy_of_Copy_of_PHYTON_1.ipynb\" target=\"_parent\"><img src=\"https://colab.research.google.com/assets/colab-badge.svg\" alt=\"Open In Colab\"/></a>"
      ]
    },
    {
      "cell_type": "code",
      "metadata": {
        "id": "ECYqljwU_I8d"
      },
      "source": [
        "# Função print             \n",
        "  print (               \"Olá mundo!\"               )              \n",
        "Print (               \"Clayton\"               )"
      ],
      "execution_count": null,
      "outputs": []
    },
    {
      "cell_type": "code",
      "metadata": {
        "colab": {
          "base_uri": "https://localhost:8080/",
          "height": 34
        },
        "id": "k2FcABXEc0tE",
        "outputId": "a0b79270-bf85-4579-f89a-c146b53d4fec"
      },
      "source": [
        "imprimir (    750    +    750    *    3    /    20    )"
      ],
      "execution_count": null,
      "outputs": [
        {
          "output_type": "stream",
          "text": [
            "862.5\n"
          ],
          "name": "stdout"
        }
      ]
    },
    {
      "cell_type": "code",
      "metadata": {
        "colab": {
          "base_uri": "https://localhost:8080/",
          "height": 34
        },
        "id": "sUdtg6HsXX0y",
        "outputId": "f2442b21-cb7b-44bb-ed29-55d53116fac8"
      },
      "source": [
        "A =     3     \n",
        "B =     5    \n",
        "C =    2    * A *   3   * B  \n",
        "impressão (C)"
      ],
      "execution_count": null,
      "outputs": [
        {
          "output_type": "stream",
          "text": [
            "90\n"
          ],
          "name": "stdout"
        }
      ]
    },
    {
      "cell_type": "code",
      "metadata": {
        "colab": {
          "base_uri": "https://localhost:8080/",
          "height": 34
        },
        "id": "kf16dw3hYUai",
        "outputId": "074047b6-0565-4173-9d50-d93936d079ea"
      },
      "source": [
        "X =    4   \n",
        "Y =    6   \n",
        "Z =    7   \n",
        "C = X + Y + Z     \n",
        "impressão (C)"
      ],
      "execution_count": null,
      "outputs": [
        {
          "output_type": "stream",
          "text": [
            "17\n"
          ],
          "name": "stdout"
        }
      ]
    },
    {
      "cell_type": "code",
      "metadata": {
        "colab": {
          "base_uri": "https://localhost:8080/",
          "height": 34
        },
        "id": "_uR1Nav7Aqw9",
        "outputId": "ec85baa6-bdd7-46a6-ac0c-d9f13a1e559d"
      },
      "source": [
        " \n",
        " print ( 1  +  5 )"
      ],
      "execution_count": null,
      "outputs": [
        {
          "output_type": "stream",
          "text": [
            "6\n"
          ],
          "name": "stdout"
        }
      ]
    },
    {
      "cell_type": "code",
      "metadata": {
        "colab": {
          "base_uri": "https://localhost:8080/",
          "height": 34
        },
        "id": "WZXvoYLfEtl8",
        "outputId": "95c00325-b81f-4cf2-8562-57915d869951"
      },
      "source": [
        "# Operação de subtração   \n",
        "10-5"
      ],
      "execution_count": null,
      "outputs": [
        {
          "output_type": "execute_result",
          "data": {
            "text/plain": [
              "5"
            ]
          },
          "metadata": {
            "tags": []
          },
          "execution_count": 27
        }
      ]
    },
    {
      "cell_type": "code",
      "metadata": {
        "colab": {
          "base_uri": "https://localhost:8080/",
          "height": 34
        },
        "id": "6pDfcFz0E_mj",
        "outputId": "9ff47d5e-73fc-4f7d-912f-a1b674bc01b3"
      },
      "source": [
        "# operação de multiplicação utilização-se o  asterisco \n",
        "10 * 7"
      ],
      "execution_count": null,
      "outputs": [
        {
          "output_type": "execute_result",
          "data": {
            "text/plain": [
              "70"
            ]
          },
          "metadata": {
            "tags": []
          },
          "execution_count": 28
        }
      ]
    },
    {
      "cell_type": "code",
      "metadata": {
        "colab": {
          "base_uri": "https://localhost:8080/",
          "height": 34
        },
        "id": "6gKuHkTJFPXO",
        "outputId": "e70d27b3-49be-4945-8348-2b4e0b57a196"
      },
      "source": [
        "# Operação de divisão utiliza-se uma barra \n",
        "1 / 4"
      ],
      "execution_count": null,
      "outputs": [
        {
          "output_type": "execute_result",
          "data": {
            "text/plain": [
              "0.25"
            ]
          },
          "metadata": {
            "tags": []
          },
          "execution_count": 29
        }
      ]
    },
    {
      "cell_type": "code",
      "metadata": {
        "colab": {
          "base_uri": "https://localhost:8080/",
          "height": 34
        },
        "id": "uhnchp2LFhZE",
        "outputId": "0100c767-aea6-4425-d77e-a458d6ece942"
      },
      "source": [
        "# operação de divisão que exiba somente os números  inteiros usar duas barras \n",
        "10 // 4"
      ],
      "execution_count": null,
      "outputs": [
        {
          "output_type": "execute_result",
          "data": {
            "text/plain": [
              "2"
            ]
          },
          "metadata": {
            "tags": []
          },
          "execution_count": 30
        }
      ]
    },
    {
      "cell_type": "code",
      "metadata": {
        "colab": {
          "base_uri": "https://localhost:8080/",
          "height": 34
        },
        "id": "ZBY0yCcRF0Fq",
        "outputId": "b129b237-e278-478c-dcaa-b98e58e51d68"
      },
      "source": [
        "# operação de divisão que exibição somente o resto  da divisão usa-se% \n",
        "10 % 4"
      ],
      "execution_count": null,
      "outputs": [
        {
          "output_type": "execute_result",
          "data": {
            "text/plain": [
              "2"
            ]
          },
          "metadata": {
            "tags": []
          },
          "execution_count": 31
        }
      ]
    },
    {
      "cell_type": "code",
      "metadata": {
        "colab": {
          "base_uri": "https://localhost:8080/",
          "height": 34
        },
        "id": "3aw-f1yYGS60",
        "outputId": "89fa060c-27c4-4fcc-9577-5565158b345d"
      },
      "source": [
        "# operação para potenciação utilizar dois     asteriscos **  \n",
        "10   ** (   2   )"
      ],
      "execution_count": null,
      "outputs": [
        {
          "output_type": "execute_result",
          "data": {
            "text/plain": [
              "100"
            ]
          },
          "metadata": {
            "tags": []
          },
          "execution_count": 32
        }
      ]
    },
    {
      "cell_type": "code",
      "metadata": {
        "colab": {
          "base_uri": "https://localhost:8080/",
          "height": 34
        },
        "id": "dNld2S0XHGXL",
        "outputId": "e1516470-2215-4f07-d501-4fadd213ed91"
      },
      "source": [
        "# expressão  \n",
        "10  +  20  *  30"
      ],
      "execution_count": null,
      "outputs": [
        {
          "output_type": "execute_result",
          "data": {
            "text/plain": [
              "610"
            ]
          },
          "metadata": {
            "tags": []
          },
          "execution_count": 34
        }
      ]
    },
    {
      "cell_type": "code",
      "metadata": {
        "id": "QV_j666YHraT"
      },
      "source": [
        "# expressão  \n",
        "4  ** (  2  ) + 30"
      ],
      "execution_count": null,
      "outputs": []
    },
    {
      "cell_type": "code",
      "metadata": {
        "colab": {
          "base_uri": "https://localhost:8080/",
          "height": 34
        },
        "id": "ba7GEFCoIZim",
        "outputId": "15e14e6d-9fea-4c8a-a48e-7441378a64f6"
      },
      "source": [
        " \n",
        "#expressao 10% 3 * 10 ** (2) + 1-10 * 4/2"
      ],
      "execution_count": null,
      "outputs": [
        {
          "output_type": "execute_result",
          "data": {
            "text/plain": [
              "81.0"
            ]
          },
          "metadata": {
            "tags": []
          },
          "execution_count": 42
        }
      ]
    },
    {
      "cell_type": "code",
      "metadata": {
        "colab": {
          "base_uri": "https://localhost:8080/",
          "height": 34
        },
        "id": "0KsA0i1OWXqM",
        "outputId": "b6716b5f-c8e0-473a-fb8a-514866291f2b"
      },
      "source": [
        "A =            1           \n",
        "B =            2           \n",
        "C = A> B           \n",
        "D = não A> B           \n",
        "E = não B> A           \n",
        "C e E ou D"
      ],
      "execution_count": null,
      "outputs": [
        {
          "output_type": "execute_result",
          "data": {
            "text/plain": [
              "True"
            ]
          },
          "metadata": {
            "tags": []
          },
          "execution_count": 61
        }
      ]
    },
    {
      "cell_type": "code",
      "metadata": {
        "colab": {
          "base_uri": "https://localhost:8080/",
          "height": 34
        },
        "id": "p6AJcgGlYr7S",
        "outputId": "a20c899f-eb1b-45e8-fc24-aee6d5eed95c"
      },
      "source": [
        "Slrio =  1300  \n",
        "não Slrio <  1100"
      ],
      "execution_count": null,
      "outputs": [
        {
          "output_type": "execute_result",
          "data": {
            "text/plain": [
              "True"
            ]
          },
          "metadata": {
            "tags": []
          },
          "execution_count": 62
        }
      ]
    },
    {
      "cell_type": "code",
      "metadata": {
        "colab": {
          "base_uri": "https://localhost:8080/",
          "height": 34
        },
        "id": "stBnp4rDNgyT",
        "outputId": "99396712-376c-4803-8722-46c125f354ba"
      },
      "source": [
        "# Expressão             \n",
        "(           9             ** (             4             ) +             2           ) *         6-1"
      ],
      "execution_count": null,
      "outputs": [
        {
          "output_type": "execute_result",
          "data": {
            "text/plain": [
              "39377"
            ]
          },
          "metadata": {
            "tags": []
          },
          "execution_count": 45
        }
      ]
    },
    {
      "cell_type": "code",
      "metadata": {
        "colab": {
          "base_uri": "https://localhost:8080/",
          "height": 34
        },
        "id": "Ro-3BKiHa6f4",
        "outputId": "6193ad98-5ad6-4ac5-e08e-29838d46d029"
      },
      "source": [
        " \n",
        "F =                      7                  \n",
        "G =                      7                   \n",
        "H =                      9                     \n",
        "I = F>   7   e G>   7   e H>   7     \n",
        "impressão (   \"Aprovado\"   )"
      ],
      "execution_count": null,
      "outputs": [
        {
          "output_type": "stream",
          "text": [
            "Aprovado\n"
          ],
          "name": "stdout"
        }
      ]
    },
    {
      "cell_type": "code",
      "metadata": {
        "colab": {
          "base_uri": "https://localhost:8080/",
          "height": 69
        },
        "id": "Xlzn6X-dZv6D",
        "outputId": "a410def2-3aa5-43db-d07a-b59ab56f935f"
      },
      "source": [
        " \n",
        "X =        int        (input (       \"Digite um número inteiro\"       ))       \n",
        " Y =        int        (input (       \"Digite um número inteiro\"       ))       \n",
        "Soma = X + Y       \n",
        "imprimir (Soma)"
      ],
      "execution_count": null,
      "outputs": [
        {
          "output_type": "stream",
          "text": [
            "Digite um número inteiro5\n",
            "Digite um número inteiro2\n",
            "7\n"
          ],
          "name": "stdout"
        }
      ]
    },
    {
      "cell_type": "code",
      "metadata": {
        "colab": {
          "base_uri": "https://localhost:8080/",
          "height": 51
        },
        "id": "_cTs3zBjLUdp",
        "outputId": "9e41cdf6-a259-4850-9640-be79c24b1995"
      },
      "source": [
        " \n",
        "X =             float             (input (            \"Digite um valor em metros\"            ))           \n",
        " Valoremmilimetros = X *             1000            \n",
        "imprimir (Valoremmilimetros)"
      ],
      "execution_count": null,
      "outputs": [
        {
          "output_type": "stream",
          "text": [
            "Digite um valor em metros10\n",
            "10000.0\n"
          ],
          "name": "stdout"
        }
      ]
    },
    {
      "cell_type": "code",
      "metadata": {
        "colab": {
          "base_uri": "https://localhost:8080/",
          "height": 123
        },
        "id": "fcuTh6MBNgzB",
        "outputId": "5a5eb060-7661-4939-b645-7e397234c203"
      },
      "source": [
        " \n",
        "qtdd =            int            (input (           \"Digite a quantidade de dias\"           ))          \n",
        " qtdh =            int            (input (           \"Digite a quantidade de horas\"           ))           \n",
        "qtdm =            int            (input (           \"Digite a quantidade de minutos\"           ))           \n",
        "qtds =            int            (input (           \"Digite a quantidade de segundos\"           ))          \n",
        "Totais = qtds + qtdm *           60           + qtdh *           3600           + qtdd *           24          *          3600      \n",
        " impressão (Totais)"
      ],
      "execution_count": null,
      "outputs": [
        {
          "output_type": "stream",
          "text": [
            "Digite a quantidade de dias60\n",
            "Digite a quantidade de horas6\n",
            "Digite a quantidade de minutos30\n",
            "Digite a quantidade de segundos12\n",
            "5207412\n"
          ],
          "name": "stdout"
        }
      ]
    },
    {
      "cell_type": "code",
      "metadata": {
        "colab": {
          "base_uri": "https://localhost:8080/",
          "height": 106
        },
        "id": "jRANSLh_Q9Et",
        "outputId": "2b48c18d-e18f-4df8-8574-a8f35abc5b1a"
      },
      "source": [
        " \n",
        " \n",
        "Sal =   float   (input (  \"Digite o valor do salário\"  )) \n",
        " AumP =   float   (input (  \"Digite a porcentagem do aumento\"  ))  \n",
        "Vaum = Sal * (AumP /  100  )  \n",
        "NSal = Sal + Vaum  \n",
        "print (  \"O valor do aumento de R $%. 2f \"   % Vaum)   \n",
        "imprimir (   \" O novo salário será de R $%. 2f \"  % NSal)"
      ],
      "execution_count": null,
      "outputs": [
        {
          "output_type": "stream",
          "text": [
            "Digite o valor do salário1700\n",
            "Digite a porcentagem do aumento10\n",
            "O valor do aumento foi R$170.00\n",
            "O novo salário será de R$1870.00\n"
          ],
          "name": "stdout"
        }
      ]
    },
    {
      "cell_type": "code",
      "metadata": {
        "colab": {
          "base_uri": "https://localhost:8080/",
          "height": 106
        },
        "id": "Q3ig9hVUmsbq",
        "outputId": "bc6a8795-3ebc-42bd-9179-b1c9d70c6e2a"
      },
      "source": [
        " \n",
        "Preçomerc =       float       (input (      \"Digite o preço da mercadoria\"      ))      \n",
        "PorcDesc =       float       (input (      \"Digite a porcentagem de desconto\"      ))      \n",
        "Vdesc = Preçomerc * (PorcDesc /       100      )      \n",
        "Preçototal = Preçomerc - Vdesc      \n",
        "print (      \"O valor do desconto foi de R $% .2f \"     % Vdesc)      \n",
        "print (       \" O Preço da Mercadoria com desconto é de R $%          .2f \"     % Preçototal)"
      ],
      "execution_count": null,
      "outputs": [
        {
          "output_type": "stream",
          "text": [
            "Digite o preço da mercadoria1555.3\n",
            "Digite a porcentagem de desconto17\n",
            "O valor do desconto foi de R $ 264.40 \n",
            " O Preço da Mercadoria com desconto é de R $ 1290.90 \n"
          ],
          "name": "stdout"
        }
      ]
    },
    {
      "cell_type": "code",
      "metadata": {
        "colab": {
          "base_uri": "https://localhost:8080/",
          "height": 89
        },
        "id": "gWFgNLYfolE7",
        "outputId": "56a63071-9311-4f75-f6a2-3c8984a21870"
      },
      "source": [
        " \n",
        "Distancia =       float       (input (      \"Digite o valor da distância a ser percorrida na       viagem (em km)\"      ))      \n",
        "Velmedia =       float       (input (      \"Digite o valor da velocidade média esperada para       a viagem (em Km / h)\"      ))      \n",
        "Tempoviagem = Distancia / impressão Velmedia      \n",
        "(      \"O tempo da viagem será de% .2f horas\"       % Tempoviagem)"
      ],
      "execution_count": null,
      "outputs": [
        {
          "output_type": "stream",
          "text": [
            "Digite o valor da distância a ser percorrida na    viagem (em km)1234\n",
            "Digite o valor da velocidade média esperada para    a viagem (em Km/h)97\n",
            "O tempo da viagem será de 12.72 horas\n"
          ],
          "name": "stdout"
        }
      ]
    },
    {
      "cell_type": "code",
      "metadata": {
        "colab": {
          "base_uri": "https://localhost:8080/",
          "height": 89
        },
        "id": "QhdeqTaTq_4h",
        "outputId": "af71e4ab-aaaa-4b47-fee2-0bea72bb11f1"
      },
      "source": [
        "Distancia =                     float                     (input (                    \"Digite o valor da distância percorrida pelo carro                     alugado (em km)\"                    ))                    \n",
        "Qtddias =    float    (input (    \"Digite a quantidade de dias que o carro foi aluga  do\"   ))                    \n",
        "Valor = Qtddias *       60       + distancia * (                    15                    /                    100               )      \n",
        "print (       \"O Custo e R $% .2f\"        % Valor)"
      ],
      "execution_count": null,
      "outputs": [
        {
          "output_type": "stream",
          "text": [
            "Digite o valor da distância percorrida pelo carro                   alugado (em km)10\n",
            "Digite a quantidade de dias que o carro foi alugado 5\n",
            "O Custo e R $ 301.50\n"
          ],
          "name": "stdout"
        }
      ]
    },
    {
      "cell_type": "code",
      "metadata": {
        "colab": {
          "base_uri": "https://localhost:8080/",
          "height": 89
        },
        "id": "OkIfBhlriKJ2",
        "outputId": "6c719dea-21ad-45bd-9ca5-c74a17eedc79"
      },
      "source": [
        "Qtdcigarro =             float             (input (            \"Digite a quantidade de cigarros fumados por dia\"            ))            \n",
        "Qtdanos =             float             (input (            \"Digite o total de anos que você fumou\"            ))         \n",
        "Qtdtotal = Qtdcigarro *         365         * Qtdanos         \n",
        "MinP = Qtdtotal *         10         \n",
        "DiasP = MinP /         1440         \n",
        "print (         \"A quantidade de dias da sua vida que você perdeu  por causa dessa vício foi:% .0f dias\"          % DiasP)"
      ],
      "execution_count": null,
      "outputs": [
        {
          "output_type": "stream",
          "text": [
            "Digite a quantidade de cigarros fumados por dia 6\n",
            "Digite o total de anos que você fumou 30\n",
            "A quantidade de dias da sua vida que você perdeu por causa dessa vício foi: 456 dias\n"
          ],
          "name": "stdout"
        }
      ]
    },
    {
      "cell_type": "code",
      "metadata": {
        "colab": {
          "base_uri": "https://localhost:8080/",
          "height": 71
        },
        "id": "fN2d_h_nqj1Q",
        "outputId": "e0bfc924-462f-40a4-ec4c-f91e764c5723"
      },
      "source": [
        " \n",
        "TempC = float (input (    \"Digite o valor da temperatura em ° C\"    ))    \n",
        "TempF =     9     * TempC /     5     +     32    \n",
        "print (    \"A temperatura em fahrenheit é;% .0f\"    % TempF)"
      ],
      "execution_count": null,
      "outputs": [
        {
          "output_type": "stream",
          "text": [
            "Digite o valor da temperatura em ° C41\n",
            "A temperatura em fahrenheit é; 106\n"
          ],
          "name": "stdout"
        }
      ]
    },
    {
      "cell_type": "code",
      "metadata": {
        "colab": {
          "base_uri": "https://localhost:8080/",
          "height": 141
        },
        "id": "NhMXXP2Ixb-4",
        "outputId": "da9fd211-9295-4a98-9912-ac43f0ef1d72"
      },
      "source": [
        "Nvend =  input ( \"Digite o nome do vendedor\" ) \n",
        "SalF = float (  input ( \"Digite o salário fixo\" )) \n",
        "Vendasmes = float (  input ( \"Digite o valor das suas vendas mensais\" )) \n",
        "Comissao = Vendasmes * 0,15 \n",
        "SalT = SalF + Comissao \n",
        "print (Nvend) \n",
        "print ( \"O seu salário é de R $%. 2f\"  % SalF) \n",
        "print ( \"O seu salário total é de R $%. 2f\"  % SalT)"
      ],
      "execution_count": null,
      "outputs": [
        {
          "output_type": "stream",
          "text": [
            "Digite o nome do vendedor Sérgio\n",
            "Digite o salário fixo 1600\n",
            "Digite o valor das suas vendas mensais 1000\n",
            "Sérgio\n",
            "O seu salário fixo é de R$1600.00 \n",
            "O seu salário total é de R$1750.00 \n"
          ],
          "name": "stdout"
        }
      ]
    },
    {
      "cell_type": "code",
      "metadata": {
        "colab": {
          "base_uri": "https://localhost:8080/",
          "height": 86
        },
        "id": "f0IOXbIC3-PA",
        "outputId": "02ca2eba-61b3-4262-d16e-1ba7bcd94ad1"
      },
      "source": [
        "A = float ( input ( \"Digite um número inteiro \" )) \n",
        "B =  float  (input ( \"Digite um número inteiro \" ))\n",
        "C=A\n",
        "A=B\n",
        "B=C\n",
        "print (\"O primeiro número trocado é: %.0f \" %A)\n",
        "print (\"O segundo número trocado é:%.0f \"%B)"
      ],
      "execution_count": null,
      "outputs": [
        {
          "output_type": "stream",
          "text": [
            "Digite um número inteiro 100\n",
            "Digite um número inteiro 90\n",
            "O primeiro número trocado é: 90 \n",
            "O segundo número trocado é:100 \n"
          ],
          "name": "stdout"
        }
      ]
    },
    {
      "cell_type": "code",
      "metadata": {
        "colab": {
          "base_uri": "https://localhost:8080/",
          "height": 89
        },
        "id": "d4gdHcDiLwYX",
        "outputId": "754bd218-2975-4ec4-d40d-44f21d7eba9b"
      },
      "source": [
        " Dol= float ( input(\"Digite a quantidade de dólares que você possui \"))\n",
        "Cotacao= float ( input(\"Digite a cotação do dólar atual \"))\n",
        "Vreais = Dol*Cotacao\n",
        "print (\"O valor que você possui em reais é: R$%.2f\" %Vreais)"
      ],
      "execution_count": null,
      "outputs": [
        {
          "output_type": "stream",
          "text": [
            "Digite a quantidade de dólares que você possui 300\n",
            "Digite a cotação do dólar atual 6\n",
            "O valor que você possui em reais é: R$1800.00\n"
          ],
          "name": "stdout"
        }
      ]
    },
    {
      "cell_type": "code",
      "metadata": {
        "colab": {
          "base_uri": "https://localhost:8080/",
          "height": 71
        },
        "id": "Zdf3iFUQBOWd",
        "outputId": "5bafb5ca-df5b-454b-cdbb-8a5f1d5126d0"
      },
      "source": [
        "Cf = float(input ( \"Digite o custo de fabrica do seu carro \"))\n",
        "imp= Cf*0.45\n",
        "Imp2=imp+Cf\n",
        "Porcdist= Imp2*0.28\n",
        "CT= Cf+imp+Porcdist\n",
        "print (\" O custo total do seu carro é: %.2f \" %CT)"
      ],
      "execution_count": null,
      "outputs": [
        {
          "output_type": "stream",
          "text": [
            "Digite o custo de fabrica do seu carro 10000\n",
            " O custo total do seu carro é: 18560.00 \n"
          ],
          "name": "stdout"
        }
      ]
    },
    {
      "cell_type": "code",
      "metadata": {
        "colab": {
          "base_uri": "https://localhost:8080/",
          "height": 71
        },
        "id": "DsL6JHfJDDwS",
        "outputId": "1e48413f-1550-4909-fa75-f53aba290d8a"
      },
      "source": [
        "vel = float (input ( \"Digite a velocidade do seu carro (em Km / h)\" )) \n",
        "if vel > 80: \n",
        "    m = (vel-80 ) * 5 \n",
        "    print (\"Você foi multado em: R$ %.2f\"  %m)"
      ],
      "execution_count": null,
      "outputs": [
        {
          "output_type": "stream",
          "text": [
            "Digite a velocidade do seu carro (em Km / h)100\n",
            "Você foi multado em: R$ 100.00\n"
          ],
          "name": "stdout"
        }
      ]
    },
    {
      "cell_type": "code",
      "metadata": {
        "colab": {
          "base_uri": "https://localhost:8080/",
          "height": 103
        },
        "id": "AxYBU-aFKa4H",
        "outputId": "8226f800-5557-4208-cb71-5f03e1cbc1c8"
      },
      "source": [
        "A= float( input (\"Digite um número \"))\n",
        "B= float( input (\"Digite um número \"))\n",
        "C= float( input (\"Digite um número \"))\n",
        "if A>B and A>C:\n",
        "    print (\"O maior número é o %.2f \" %A)\n",
        "    if B>C:\n",
        "        print (\"O menor número é o %.2f \" %C)\n",
        "    else:\n",
        "        print (\"O menor número é o %.2f \" %B)\n",
        "        if B==C:\n",
        "            print (\"Os dois últimos números são iguais\")\n",
        "if B>A and B>C:\n",
        "    print (\"O maior número é o %.2f \" %B)\n",
        "    if A>C:\n",
        "        print (\"O menor número é o %.2f \" %C)\n",
        "    else:\n",
        "        print (\"O menor número é o %.2f \" %A)\n",
        "        if A==C:\n",
        "            print (\"O primeiro e o último número são iguais\")\n",
        "if C>A and C>B:\n",
        "    print (\"O maior número é o %.2f \" %C)\n",
        "    if A>B:\n",
        "        print (\"O menor número é o %.2f \" %B)\n",
        "    else:\n",
        "        print (\"O menor número é o %.2f \" %A)\n",
        "        if B==A:\n",
        "            print (\"Os dois primeiros números são iguais\")\n",
        "if A==B and B==C:\n",
        "    print (\"Os três números são iguais\")"
      ],
      "execution_count": null,
      "outputs": [
        {
          "output_type": "stream",
          "text": [
            "Digite um número 60\n",
            "Digite um número 80\n",
            "Digite um número 6\n",
            "O maior número é o 80.00 \n",
            "O menor número é o 6.00 \n"
          ],
          "name": "stdout"
        }
      ]
    },
    {
      "cell_type": "code",
      "metadata": {
        "colab": {
          "base_uri": "https://localhost:8080/",
          "height": 71
        },
        "id": "U89s6NqOOEov",
        "outputId": "6ed83e86-ba5a-401a-a7ba-a7d2d7aaf2cc"
      },
      "source": [
        " \n",
        "Sal=float (input (\"Informe seu salário: R$ \"))\n",
        "if Sal>1250:\n",
        "    SalF = Sal*0.1+Sal\n",
        "    print (\"Seu salário final(salário+aumento) é: R$ %.2f \" %SalF)\n",
        "else:\n",
        "    SalF = Sal*0.15+Sal\n",
        "    print (\"Seu salário final(salário+aumento) é: R$ %.2f \" %SalF)"
      ],
      "execution_count": null,
      "outputs": [
        {
          "output_type": "stream",
          "text": [
            "Informe seu salário: R$ 1000\n",
            "Seu salário final(salário+aumento) é: R$ 1150.00 \n"
          ],
          "name": "stdout"
        }
      ]
    },
    {
      "cell_type": "code",
      "metadata": {
        "colab": {
          "base_uri": "https://localhost:8080/",
          "height": 71
        },
        "id": "tRJ2fW7MPFQ5",
        "outputId": "8a3bd781-bcf0-42b4-9439-4428340065db"
      },
      "source": [
        " \n",
        "Dist= float(input (\"Digite a distância que você deseja percorrer (em Km) \"))\n",
        "if Dist<=200:\n",
        "    Ppass= Dist*0.5\n",
        "    print (\"O preço da passagem é: R$ %.2f \" %Ppass)\n",
        "else:\n",
        "    Ppass= Dist*0.45\n",
        "    print (\"O preço da passagem é: R$ %.2f \" %Ppass)"
      ],
      "execution_count": null,
      "outputs": [
        {
          "output_type": "stream",
          "text": [
            "Digite a distância que você deseja percorrer (em Km) 10\n",
            "O preço da passagem é: R$ 5.00 \n"
          ],
          "name": "stdout"
        }
      ]
    },
    {
      "cell_type": "code",
      "metadata": {
        "colab": {
          "base_uri": "https://localhost:8080/",
          "height": 106
        },
        "id": "UR7bYMXyUPNZ",
        "outputId": "36ffecc1-c83e-4fac-ca52-ae0f16b4dba5"
      },
      "source": [
        " \n",
        "A= float(input(\"Digite um número \"))\n",
        "B= float(input(\"Digite um número \"))\n",
        "C= str(input( \"Digite a operação desejada, deve ser digitado exatamente igual as operações descritas a seguir (soma, subtração, multiplicação, divisão) \"))\n",
        "if C==\"soma\":\n",
        "    D=A+B\n",
        "    print(\"O resultado é: %.2f \" %D)\n",
        "elif C==\"subtração\":\n",
        "    D=A-B\n",
        "    print(\"O resultado é: %.2f \" %D)\n",
        "elif C==\"divisão\":\n",
        "    D=A/B\n",
        "    print(\"O resultado é: %.2f \" %D)\n",
        "elif C==\"multiplicação\":\n",
        "    D=A*B\n",
        "    print(\"O resultado é: %.2f \" %D)\n",
        "else:\n",
        "    print(\"O nome da operação digitada está incorreto, por favor digite novamente\")"
      ],
      "execution_count": null,
      "outputs": [
        {
          "output_type": "stream",
          "text": [
            "Digite um número 5.67\n",
            "Digite um número 4.21\n",
            "Digite a operação desejada, deve ser digitado exatamente igual as operações descritas a seguir (soma, subtração, multiplicação, divisão) multiplicação\n",
            "O resultado é: 23.87 \n"
          ],
          "name": "stdout"
        }
      ]
    },
    {
      "cell_type": "code",
      "metadata": {
        "colab": {
          "base_uri": "https://localhost:8080/",
          "height": 123
        },
        "id": "aL1OAPXbXnyi",
        "outputId": "e46c31df-163b-4b43-e42f-40f07395b308"
      },
      "source": [
        " \n",
        "Vcasa = float(input(\"Digite o valor da casa: R$ \"))\n",
        "Qtdanos= int(input(\"Digite a quantidade de anos para pagar \"))\n",
        "Vsal = float(input(\"Digite o valor do salário: R$ \"))\n",
        "Vprest = Vcasa/Qtdanos/12\n",
        "if Vprest<=(Vsal/3):\n",
        "    print (\"O valor da prestação é: R$%.2f \" %Vprest)\n",
        "    print (\"O empréstimo foi aprovado \")\n",
        "else:\n",
        "    print (\"O valor da prestação é: R$%.2f \" %Vprest)\n",
        "    print (\"O empréstimo não foi aprovado \")"
      ],
      "execution_count": null,
      "outputs": [
        {
          "output_type": "stream",
          "text": [
            "Digite o valor da casa: R$ 300000\n",
            "Digite a quantidade de anos para pagar 30\n",
            "Digite o valor do salário: R$ 2107.5\n",
            "O valor da prestação é: R$833.33 \n",
            "O empréstimo não foi aprovado \n"
          ],
          "name": "stdout"
        }
      ]
    },
    {
      "cell_type": "code",
      "metadata": {
        "colab": {
          "base_uri": "https://localhost:8080/",
          "height": 89
        },
        "id": "K4vJ6moaBgUw",
        "outputId": "ae2e98aa-1a61-4dab-accc-8102b63aec86"
      },
      "source": [
        " \n",
        "Consumo= float(input(\"Digite o valor do consumo em (kWh) \"))\n",
        "Tipo= str(input(\"Digite o tipo de instalação: R para residências, I para indústrias e C para comércios. \"))\n",
        "if Tipo== \"R\":\n",
        "    if Consumo>500:\n",
        "        Peço=Consumo*0.65\n",
        "    else:\n",
        "        Peço=Consumo*0.4\n",
        "    print(\" O preço que você irá pagar é: R$%.2f \" %Peço)\n",
        "elif Tipo== \"C\":\n",
        "    if Consumo>1000:\n",
        "        Peço=Consumo*0.6\n",
        "    else:\n",
        "        Peço=Consumo*0.55\n",
        "    print(\" O preço que você irá pagar é: R$%.2f \" %Peço)\n",
        "elif Tipo== \"I\":\n",
        "    if Consumo>5000:\n",
        "        Peço=Consumo*0.6\n",
        "    else:\n",
        "        Peço=Consumo*0.55\n",
        "    print(\" O preço que você irá pagar é: R$%.2f \" %Peço)\n",
        " else:\n",
        "     print (\"Digite as letras C (comércio), I (indústria) ou R (residência)\")"
      ],
      "execution_count": null,
      "outputs": [
        {
          "output_type": "stream",
          "text": [
            "Digite o valor do consumo em (kWh) 6000\n",
            "Digite o tipo de instalação: R para residências, I para indústrias e C para comércios. C\n",
            " O preço que você irá pagar é: R$3600.00 \n"
          ],
          "name": "stdout"
        }
      ]
    },
    {
      "cell_type": "code",
      "metadata": {
        "colab": {
          "base_uri": "https://localhost:8080/",
          "height": 1000
        },
        "id": "zkzV4aYWDP5j",
        "outputId": "e3487500-2947-4143-b038-2e71d0242ffc"
      },
      "source": [
        "X=1\n",
        "while X<=100:\n",
        "    print (X)\n",
        "    X=X+1"
      ],
      "execution_count": null,
      "outputs": [
        {
          "output_type": "stream",
          "text": [
            "1\n",
            "2\n",
            "3\n",
            "4\n",
            "5\n",
            "6\n",
            "7\n",
            "8\n",
            "9\n",
            "10\n",
            "11\n",
            "12\n",
            "13\n",
            "14\n",
            "15\n",
            "16\n",
            "17\n",
            "18\n",
            "19\n",
            "20\n",
            "21\n",
            "22\n",
            "23\n",
            "24\n",
            "25\n",
            "26\n",
            "27\n",
            "28\n",
            "29\n",
            "30\n",
            "31\n",
            "32\n",
            "33\n",
            "34\n",
            "35\n",
            "36\n",
            "37\n",
            "38\n",
            "39\n",
            "40\n",
            "41\n",
            "42\n",
            "43\n",
            "44\n",
            "45\n",
            "46\n",
            "47\n",
            "48\n",
            "49\n",
            "50\n",
            "51\n",
            "52\n",
            "53\n",
            "54\n",
            "55\n",
            "56\n",
            "57\n",
            "58\n",
            "59\n",
            "60\n",
            "61\n",
            "62\n",
            "63\n",
            "64\n",
            "65\n",
            "66\n",
            "67\n",
            "68\n",
            "69\n",
            "70\n",
            "71\n",
            "72\n",
            "73\n",
            "74\n",
            "75\n",
            "76\n",
            "77\n",
            "78\n",
            "79\n",
            "80\n",
            "81\n",
            "82\n",
            "83\n",
            "84\n",
            "85\n",
            "86\n",
            "87\n",
            "88\n",
            "89\n",
            "90\n",
            "91\n",
            "92\n",
            "93\n",
            "94\n",
            "95\n",
            "96\n",
            "97\n",
            "98\n",
            "99\n",
            "100\n"
          ],
          "name": "stdout"
        }
      ]
    },
    {
      "cell_type": "code",
      "metadata": {
        "id": "3sGVKUDpBx0F"
      },
      "source": [
        ""
      ],
      "execution_count": null,
      "outputs": []
    },
    {
      "cell_type": "code",
      "metadata": {
        "colab": {
          "base_uri": "https://localhost:8080/",
          "height": 901
        },
        "id": "f7Y27SO6F25l",
        "outputId": "f6e42477-fa56-48a6-cbf6-8e5550aa6b94"
      },
      "source": [
        " X=50\n",
        "while X<=100:\n",
        "    print (X)\n",
        "    X=X+1"
      ],
      "execution_count": null,
      "outputs": [
        {
          "output_type": "stream",
          "text": [
            "50\n",
            "51\n",
            "52\n",
            "53\n",
            "54\n",
            "55\n",
            "56\n",
            "57\n",
            "58\n",
            "59\n",
            "60\n",
            "61\n",
            "62\n",
            "63\n",
            "64\n",
            "65\n",
            "66\n",
            "67\n",
            "68\n",
            "69\n",
            "70\n",
            "71\n",
            "72\n",
            "73\n",
            "74\n",
            "75\n",
            "76\n",
            "77\n",
            "78\n",
            "79\n",
            "80\n",
            "81\n",
            "82\n",
            "83\n",
            "84\n",
            "85\n",
            "86\n",
            "87\n",
            "88\n",
            "89\n",
            "90\n",
            "91\n",
            "92\n",
            "93\n",
            "94\n",
            "95\n",
            "96\n",
            "97\n",
            "98\n",
            "99\n",
            "100\n"
          ],
          "name": "stdout"
        }
      ]
    },
    {
      "cell_type": "code",
      "metadata": {
        "colab": {
          "base_uri": "https://localhost:8080/",
          "height": 225
        },
        "id": "nMzAhjiVGDZs",
        "outputId": "7c920c04-956e-4fe2-e82f-7ae9da10cb54"
      },
      "source": [
        " X=10\n",
        "while X>=0:\n",
        "    print (\"%2.0f\" %X)\n",
        "    X=X-1\n",
        "print (\"🔥\")"
      ],
      "execution_count": null,
      "outputs": [
        {
          "output_type": "stream",
          "text": [
            "10\n",
            " 9\n",
            " 8\n",
            " 7\n",
            " 6\n",
            " 5\n",
            " 4\n",
            " 3\n",
            " 2\n",
            " 1\n",
            " 0\n",
            "🔥\n"
          ],
          "name": "stdout"
        }
      ]
    },
    {
      "cell_type": "code",
      "metadata": {
        "colab": {
          "base_uri": "https://localhost:8080/",
          "height": 141
        },
        "id": "pFgne5bZHlMu",
        "outputId": "3bd03744-03d3-4de5-e9d2-0997a266412a"
      },
      "source": [
        " \n",
        "fim = int (input (\"Digite o último número a aparecer na tela \"))\n",
        "X = 1\n",
        "while X <= fim:\n",
        "    print (X)\n",
        "    X = X + 2"
      ],
      "execution_count": null,
      "outputs": [
        {
          "output_type": "stream",
          "text": [
            "Digite o último número a aparecer na tela 10\n",
            "1\n",
            "3\n",
            "5\n",
            "7\n",
            "9\n"
          ],
          "name": "stdout"
        }
      ]
    },
    {
      "cell_type": "code",
      "metadata": {
        "colab": {
          "base_uri": "https://localhost:8080/",
          "height": 190
        },
        "id": "_xJf8vAP6kvl",
        "outputId": "2f6b1f69-29d4-4ecc-f851-da7d62f878c8"
      },
      "source": [
        " \n",
        "X=3\n",
        "while X<=30:\n",
        "    print (X)\n",
        "    X=X+3"
      ],
      "execution_count": null,
      "outputs": [
        {
          "output_type": "stream",
          "text": [
            "3\n",
            "6\n",
            "9\n",
            "12\n",
            "15\n",
            "18\n",
            "21\n",
            "24\n",
            "27\n",
            "30\n"
          ],
          "name": "stdout"
        }
      ]
    },
    {
      "cell_type": "code",
      "metadata": {
        "colab": {
          "base_uri": "https://localhost:8080/",
          "height": 207
        },
        "id": "gw-AYrwN615n",
        "outputId": "afe76799-75b6-4a50-be17-b88bcad70cd7"
      },
      "source": [
        " \n",
        "n =      int      (input (     \"Tabuada de:\"     ))      \n",
        "X =      1     \n",
        "enquanto   X <=      10     :     \n",
        "    Res = n * X     \n",
        "    imprimir (     \"% d x% .0f =% .0f\"     % (n, X, Res))      \n",
        "    X = X +      1"
      ],
      "execution_count": null,
      "outputs": [
        {
          "output_type": "stream",
          "text": [
            "Tabuada de:6\n",
            " 6 x 1 = 6\n",
            " 6 x 2 = 12\n",
            " 6 x 3 = 18\n",
            " 6 x 4 = 24\n",
            " 6 x 5 = 30\n",
            " 6 x 6 = 36\n",
            " 6 x 7 = 42\n",
            " 6 x 8 = 48\n",
            " 6 x 9 = 54\n",
            " 6 x 10 = 60\n"
          ],
          "name": "stdout"
        }
      ]
    },
    {
      "cell_type": "code",
      "metadata": {
        "colab": {
          "base_uri": "https://localhost:8080/"
        },
        "id": "aKgE97LRT2yd",
        "outputId": "9d0a0773-8b8e-43e7-91f3-780b09e0c784"
      },
      "source": [
        " n =      int      (input (     \"Tabuada de:\"     ))      \n",
        "Inicio= int (input(\"Digite o início da tabuada \"))\n",
        "Fim = int (input(\"Digite o fim da tabuada \"))\n",
        "while Inicio   <=  Fim   :     \n",
        "    Res = Inicio * n  \n",
        "    print (     \"% d x% .0d =% .0d\"     % (n, Inicio, Res))      \n",
        "    Inicio = Inicio +      1"
      ],
      "execution_count": null,
      "outputs": [
        {
          "output_type": "stream",
          "text": [
            "Tabuada de:5\n",
            "Digite o início da tabuada 3\n",
            "Digite o fim da tabuada 8\n",
            " 5 x 3 = 15\n",
            " 5 x 4 = 20\n",
            " 5 x 5 = 25\n",
            " 5 x 6 = 30\n",
            " 5 x 7 = 35\n",
            " 5 x 8 = 40\n"
          ],
          "name": "stdout"
        }
      ]
    },
    {
      "cell_type": "code",
      "metadata": {
        "colab": {
          "base_uri": "https://localhost:8080/"
        },
        "id": "M9uULeY8s3hP",
        "outputId": "8adeb549-38f5-4503-bda8-8c248890413b"
      },
      "source": [
        " \n",
        "N1= int(input (\"Digite o primeiro número \"))\n",
        "N2= int(input (\"Digite o segundo número \"))\n",
        "X=1\n",
        "N3=0\n",
        "while X<=N2:\n",
        "    N3=N3+N1\n",
        "    X=X+1\n",
        "print (\"O resultado da multiplicação é: %.0d \" %N3)"
      ],
      "execution_count": null,
      "outputs": [
        {
          "output_type": "stream",
          "text": [
            "Digite o primeiro número 5\n",
            "Digite o segundo número 4\n",
            "O resultado da multiplicação é: 20 \n"
          ],
          "name": "stdout"
        }
      ]
    },
    {
      "cell_type": "code",
      "metadata": {
        "colab": {
          "base_uri": "https://localhost:8080/"
        },
        "id": "ogYi7EmFEmGq",
        "outputId": "897ac4d2-08dc-42e3-943c-41cadf12e404"
      },
      "source": [
        " \n",
        "N1= int(input (\"Digite o primeiro número \"))\n",
        "N2= int(input (\"Digite o segundo número \"))\n",
        "Resto=N1%N2\n",
        "if N2==0:\n",
        "    print (\"Impossível dividir por 0\")\n",
        "elif Resto==0:\n",
        "    X=0\n",
        "    N3=0\n",
        "    while N3<N1:\n",
        "        N3=N3+N2\n",
        "        X=X+1\n",
        "    print (\"O resultado da divisão é: %d \" %X)\n",
        "else:\n",
        "    X=-1\n",
        "    N3=0\n",
        "    while N3<N1:\n",
        "        N3=N3+N2\n",
        "        X=X+1\n",
        "    print (\"O resultado da divisão é: %d \" %X)\n",
        "print(\"O resto da divisão é: %d \" %Resto)"
      ],
      "execution_count": null,
      "outputs": [
        {
          "output_type": "stream",
          "text": [
            "Digite o primeiro número 50\n",
            "Digite o segundo número 6\n",
            "O resultado da divisão é: 8 \n",
            "O resto da divisão é: 2 \n"
          ],
          "name": "stdout"
        }
      ]
    },
    {
      "cell_type": "code",
      "metadata": {
        "colab": {
          "base_uri": "https://localhost:8080/"
        },
        "id": "KugKUmaSNGS4",
        "outputId": "bb52280f-c45b-4fdb-83ba-5fbb93fcb79b"
      },
      "source": [
        " \n",
        "pontos = 0 \n",
        "questao = 1 \n",
        "while questao<= 3: \n",
        "    resposta= input(\"Resposta da questão: \") \n",
        "    if questao== 1 and (resposta== \"b\" or resposta== \"B\"): \n",
        "        pontos= pontos + 1 \n",
        "    if questao== 2 and (resposta== \"a\" or resposta== \"A\"): \n",
        "        pontos= pontos + 1 \n",
        "    if questao== 3 and  (resposta== \"d\" or resposta== \"D\"): \n",
        "        pontos = pontos+ 1 \n",
        "    questao= questao + 1 \n",
        "print(\"O aluno fez %d ponto(s)\" %pontos)"
      ],
      "execution_count": null,
      "outputs": [
        {
          "output_type": "stream",
          "text": [
            "Resposta da questão: B\n",
            "Resposta da questão: A\n",
            "Resposta da questão: D\n",
            "O aluno fez 3 ponto(s)\n"
          ],
          "name": "stdout"
        }
      ]
    },
    {
      "cell_type": "code",
      "metadata": {
        "colab": {
          "base_uri": "https://localhost:8080/"
        },
        "id": "3H9Tn1NOkHCH",
        "outputId": "aa3f44b8-118b-40bc-c51b-27f6f02da2f0"
      },
      "source": [
        " \n",
        "Dep=float(input (\"Digite o depósito inicial: R$ \"))\n",
        "Juros=float(input (\"Digite a taxa de juros da poupança:  \"))\n",
        "Taxaj= Juros/100\n",
        "Mês=1\n",
        "Valorfinal=Dep\n",
        "while Mês<=24:\n",
        "    Valorfinal=Valorfinal*Taxaj+Valorfinal\n",
        "    print (\"O valor total disponível no mês %d é igual a: R$ %.2f \" % (Mês, Valorfinal))\n",
        "    Mês=Mês+1\n",
        "ValorTaxaj=Valorfinal-Dep\n",
        "print (\"O valor total ganho com juros nesse período foi de: R$ %.2f\" %ValorTaxaj)"
      ],
      "execution_count": null,
      "outputs": [
        {
          "output_type": "stream",
          "text": [
            "Digite o depósito inicial: R$ 1000\n",
            "Digite a taxa de juros da poupança:  10\n",
            "O valor total disponível no mês 1 é igual a: R$ 1100.00 \n",
            "O valor total disponível no mês 2 é igual a: R$ 1210.00 \n",
            "O valor total disponível no mês 3 é igual a: R$ 1331.00 \n",
            "O valor total disponível no mês 4 é igual a: R$ 1464.10 \n",
            "O valor total disponível no mês 5 é igual a: R$ 1610.51 \n",
            "O valor total disponível no mês 6 é igual a: R$ 1771.56 \n",
            "O valor total disponível no mês 7 é igual a: R$ 1948.72 \n",
            "O valor total disponível no mês 8 é igual a: R$ 2143.59 \n",
            "O valor total disponível no mês 9 é igual a: R$ 2357.95 \n",
            "O valor total disponível no mês 10 é igual a: R$ 2593.74 \n",
            "O valor total disponível no mês 11 é igual a: R$ 2853.12 \n",
            "O valor total disponível no mês 12 é igual a: R$ 3138.43 \n",
            "O valor total disponível no mês 13 é igual a: R$ 3452.27 \n",
            "O valor total disponível no mês 14 é igual a: R$ 3797.50 \n",
            "O valor total disponível no mês 15 é igual a: R$ 4177.25 \n",
            "O valor total disponível no mês 16 é igual a: R$ 4594.97 \n",
            "O valor total disponível no mês 17 é igual a: R$ 5054.47 \n",
            "O valor total disponível no mês 18 é igual a: R$ 5559.92 \n",
            "O valor total disponível no mês 19 é igual a: R$ 6115.91 \n",
            "O valor total disponível no mês 20 é igual a: R$ 6727.50 \n",
            "O valor total disponível no mês 21 é igual a: R$ 7400.25 \n",
            "O valor total disponível no mês 22 é igual a: R$ 8140.27 \n",
            "O valor total disponível no mês 23 é igual a: R$ 8954.30 \n",
            "O valor total disponível no mês 24 é igual a: R$ 9849.73 \n",
            "O valor total ganho com juros nesse período foi de: R$ 8849.73\n"
          ],
          "name": "stdout"
        }
      ]
    },
    {
      "cell_type": "code",
      "metadata": {
        "colab": {
          "base_uri": "https://localhost:8080/"
        },
        "id": "uOVIKHxuCbiC",
        "outputId": "24f48157-f71a-4747-c828-bcf609bba49e"
      },
      "source": [
        " \n",
        "Dep =  float  (input (  \"Digite o depósito inicial: R $\"  )) \n",
        " Juros =  float  (input (  \"Digite a taxa de juros da poupança:\"  ))  \n",
        "Taxaj = Juros /  100  \n",
        "Mês =  1  \n",
        "DepMtotal =  0  \n",
        "Valorfinal =  \n",
        "DepM =  0  \n",
        "enquanto Mês <=  24  : se Mês> =  2  : DepM =  float  (entrada (  \"Digite o valor do depósito mensal referente ao   mês% .0f: R $\"   % Mês)) Valorfinal = Valorfinal * Taxaj +  Valorfinal + DepM imprimir (  \"O valor na sua conta no mês% d é igual a: R $% \n",
        "    \n",
        " \n",
        " \n",
        " \n",
        " \n",
        " \n",
        " \n",
        " \n",
        " \n",
        "  % ValorTaxaj)"
      ],
      "execution_count": null,
      "outputs": [
        {
          "output_type": "stream",
          "text": [
            "Digite o depósito inicial: R$ 100.00\n",
            "Digite a taxa de juros da poupança:  1\n",
            "O valor na sua conta no mês 1 é igual a: R$ 101.00 \n",
            "Digite o valor do depósito mensal referente ao mês 2: R$ 100\n",
            "O valor na sua conta no mês 2 é igual a: R$ 202.01 \n",
            "Digite o valor do depósito mensal referente ao mês 3: R$ 100\n",
            "O valor na sua conta no mês 3 é igual a: R$ 304.03 \n",
            "Digite o valor do depósito mensal referente ao mês 4: R$ 100\n",
            "O valor na sua conta no mês 4 é igual a: R$ 407.07 \n",
            "Digite o valor do depósito mensal referente ao mês 5: R$ 100\n",
            "O valor na sua conta no mês 5 é igual a: R$ 511.14 \n",
            "Digite o valor do depósito mensal referente ao mês 6: R$ 100\n",
            "O valor na sua conta no mês 6 é igual a: R$ 616.25 \n",
            "Digite o valor do depósito mensal referente ao mês 7: R$ 100\n",
            "O valor na sua conta no mês 7 é igual a: R$ 722.42 \n",
            "Digite o valor do depósito mensal referente ao mês 8: R$ 100\n",
            "O valor na sua conta no mês 8 é igual a: R$ 829.64 \n",
            "Digite o valor do depósito mensal referente ao mês 9: R$ 100\n",
            "O valor na sua conta no mês 9 é igual a: R$ 937.94 \n",
            "Digite o valor do depósito mensal referente ao mês 10: R$ 100\n",
            "O valor na sua conta no mês 10 é igual a: R$ 1047.31 \n",
            "Digite o valor do depósito mensal referente ao mês 11: R$ 100\n",
            "O valor na sua conta no mês 11 é igual a: R$ 1157.79 \n",
            "Digite o valor do depósito mensal referente ao mês 12: R$ 100\n",
            "O valor na sua conta no mês 12 é igual a: R$ 1269.37 \n",
            "Digite o valor do depósito mensal referente ao mês 13: R$ 100\n",
            "O valor na sua conta no mês 13 é igual a: R$ 1382.06 \n",
            "Digite o valor do depósito mensal referente ao mês 14: R$ 100\n",
            "O valor na sua conta no mês 14 é igual a: R$ 1495.88 \n",
            "Digite o valor do depósito mensal referente ao mês 15: R$ 100\n",
            "O valor na sua conta no mês 15 é igual a: R$ 1610.84 \n",
            "Digite o valor do depósito mensal referente ao mês 16: R$ 100\n",
            "O valor na sua conta no mês 16 é igual a: R$ 1726.95 \n",
            "Digite o valor do depósito mensal referente ao mês 17: R$ 100\n",
            "O valor na sua conta no mês 17 é igual a: R$ 1844.22 \n",
            "Digite o valor do depósito mensal referente ao mês 18: R$ 100\n",
            "O valor na sua conta no mês 18 é igual a: R$ 1962.66 \n",
            "Digite o valor do depósito mensal referente ao mês 19: R$ 100\n",
            "O valor na sua conta no mês 19 é igual a: R$ 2082.29 \n",
            "Digite o valor do depósito mensal referente ao mês 20: R$ 100\n",
            "O valor na sua conta no mês 20 é igual a: R$ 2203.11 \n",
            "Digite o valor do depósito mensal referente ao mês 21: R$ 100\n",
            "O valor na sua conta no mês 21 é igual a: R$ 2325.14 \n",
            "Digite o valor do depósito mensal referente ao mês 22: R$ 100\n",
            "O valor na sua conta no mês 22 é igual a: R$ 2448.39 \n",
            "Digite o valor do depósito mensal referente ao mês 23: R$ 100\n",
            "O valor na sua conta no mês 23 é igual a: R$ 2572.87 \n",
            "Digite o valor do depósito mensal referente ao mês 24: R$ 100\n",
            "O valor na sua conta no mês 24 é igual a: R$ 2698.60 \n",
            "O valor depositado no período foi de: R$ 2400.00\n",
            "O valor total ganho com juros nesse período foi de: R$ 298.60\n"
          ],
          "name": "stdout"
        }
      ]
    },
    {
      "cell_type": "code",
      "metadata": {
        "colab": {
          "base_uri": "https://localhost:8080/"
        },
        "id": "9uA85BenZ82q",
        "outputId": "3a4af7dd-825d-42a1-a473-6e9c8f10e4ed"
      },
      "source": [
        " \n",
        "ValorIniD= float (input (\"Digite o valor da dívida: R$ \"))\n",
        "JuroM= float (input (\"Digite a porcentagem dos juros mensais \"))\n",
        "JuroMreal=JuroM/100\n",
        "Mes=0\n",
        "ValorTjuros=0\n",
        "ValorPagoT=0\n",
        "ValorTotalD=ValorIniD\n",
        "while 0<ValorTotalD :\n",
        "    ValorPagoM=float (input (\"Digite o valor pago no fim do mês: R$ \"))      \n",
        "    ValorTjuros=ValorTjuros+ValorTotalD*JuroMreal\n",
        "    ValorTotalD=ValorTotalD*JuroMreal+ValorTotalD\n",
        "    ValorTotalD=ValorTotalD-ValorPagoM\n",
        "    ValorPagoT=ValorPagoT+ValorPagoM\n",
        "    Mes=Mes+1\n",
        "print (\"Sua dívida será paga em: %d meses\" % Mes)\n",
        "print (\" O valor pago em juros foi: R$%.2f \" %ValorTjuros)\n",
        "print (\" O valor total pago foi: R$%.2f \" %ValorPagoT)"
      ],
      "execution_count": null,
      "outputs": [
        {
          "output_type": "stream",
          "text": [
            "Digite o valor da dívida: R$ 1000\n",
            "Digite a porcentagem dos juros mensais 1\n",
            "Digite o valor pago no fim do mês: R$ 500\n",
            "Digite o valor pago no fim do mês: R$ 300\n",
            "Digite o valor pago no fim do mês: R$ 217.30\n",
            "Sua dívida será paga em: 3 meses\n",
            " O valor pago em juros foi: R$17.25 \n",
            " O valor total pago foi: R$1017.30 \n"
          ],
          "name": "stdout"
        }
      ]
    },
    {
      "cell_type": "code",
      "metadata": {
        "colab": {
          "base_uri": "https://localhost:8080/"
        },
        "id": "aS79_YafQ0Iu",
        "outputId": "022a9a99-8d74-4c26-c92f-57286af2dce0"
      },
      "source": [
        " \n",
        "QtdN=0\n",
        "Soma=0\n",
        "while True :\n",
        "    N1 = int(input(\"Dtgtte um número inteiro ou 0 para sair:\")) \n",
        "    if N1==0:  \n",
        "      break    \n",
        "    N2= int(input(\"Dtgtte um número inteiro ou 0 para sair:\")) \n",
        "    if N2==0:\n",
        "        QtdN=QtdN+1\n",
        "        Soma=Soma+N1+N2\n",
        "        Media=Soma/QtdN    \n",
        "        break   \n",
        "    if N1==0:\n",
        "        QtdN=QtdN+1\n",
        "        Soma=Soma+N1+N2\n",
        "        Media=Soma/QtdN\n",
        "    else:\n",
        "        QtdN=QtdN+2\n",
        "        Soma=Soma+N1+N2\n",
        "        Media=Soma/QtdN\n",
        "print (\"A quantidade de números diferentes de 0 digitados é: %.0f \" %QtdN)\n",
        "print (\"A soma dos números diferentes de 0 digitados é: %.0f \" %Soma)\n",
        "print (\"A média dos números diferentes de 0 digitados é: %.0f \" %Media)"
      ],
      "execution_count": null,
      "outputs": [
        {
          "output_type": "stream",
          "text": [
            "Dtgtte um número inteiro ou 0 para sair:4\n",
            "Dtgtte um número inteiro ou 0 para sair:6\n",
            "Dtgtte um número inteiro ou 0 para sair:5\n",
            "Dtgtte um número inteiro ou 0 para sair:5\n",
            "Dtgtte um número inteiro ou 0 para sair:0\n",
            "A quantidade de números diferentes de 0 digitados é: 4 \n",
            "A soma dos números diferentes de 0 digitados é: 20 \n",
            "A média dos números diferentes de 0 digitados é: 5 \n"
          ],
          "name": "stdout"
        }
      ]
    },
    {
      "cell_type": "code",
      "metadata": {
        "colab": {
          "base_uri": "https://localhost:8080/"
        },
        "id": "ToUDSK-zCCdO",
        "outputId": "f6a0fceb-f935-47d5-bb83-dcf9fd0de151"
      },
      "source": [
        " \n",
        "Result=0\n",
        "while True:\n",
        "    Cod= int( input (\"Digite o código do produto (1,2,3,5 ou 9) ou 0 para mostrar o resultado da compra \"))\n",
        "    if Cod==0:\n",
        "        print (\"O resultado da sua compra é: R$ %.2f \" %Result)\n",
        "        break\n",
        "    elif Cod==1:\n",
        "        Pr=0.5\n",
        "    elif Cod==2:\n",
        "        Pr=1\n",
        "    elif Cod==3:\n",
        "        Pr=4\n",
        "    elif Cod==5:\n",
        "        Pr=7\n",
        "    elif Cod==9:\n",
        "        Pr=8\n",
        "    else:\n",
        "        print (\"Código inválido\")\n",
        "    Qtd= int( input (\"Digite a quantidade comprada \"))\n",
        "    Result= Pr*Qtd+Result"
      ],
      "execution_count": null,
      "outputs": [
        {
          "output_type": "stream",
          "text": [
            "Digite o código do produto (1,2,3,5 ou 9) ou 0 para mostrar o resultado da compra 3\n",
            "Digite a quantidade comprada 4\n",
            "Digite o código do produto (1,2,3,5 ou 9) ou 0 para mostrar o resultado da compra 1\n",
            "Digite a quantidade comprada 2\n",
            "Digite o código do produto (1,2,3,5 ou 9) ou 0 para mostrar o resultado da compra 0\n",
            "O resultado da sua compra é: R$ 17.00 \n"
          ],
          "name": "stdout"
        }
      ]
    },
    {
      "cell_type": "code",
      "metadata": {
        "colab": {
          "base_uri": "https://localhost:8080/"
        },
        "id": "hUlIPd-jB2G0",
        "outputId": "c3899826-3837-4ac1-93f9-29afe07940cb"
      },
      "source": [
        "#5.16/5.17\n",
        "valor = int(input(\"Digite o valor a pagar: \")) \n",
        "cedulas= 0\n",
        "atual= 50\n",
        "apagar= valor\n",
        "while True: \n",
        "    if atual<= apagar: \n",
        "        apagar -= atual\n",
        "        cedulas+= 1\n",
        "    else: \n",
        "        print(\" %d cédula(s) de R$ %.2f\" %( cedulas, atual))\n",
        "        if apagar== 0: \n",
        "            break\n",
        "        if atual== 50: \n",
        "            atual= 20 \n",
        "        elif atual == 20: \n",
        "            atual= 10 \n",
        "        elif atual== 10: \n",
        "            atual = 5\n",
        "        elif atual== 5: \n",
        "            atual= 1 \n",
        "        cedulas= 0"
      ],
      "execution_count": null,
      "outputs": [
        {
          "output_type": "stream",
          "text": [
            "Digite o valor a pagar: 501\n",
            " 10 cédula(s) de R$ 50.00\n",
            " 0 cédula(s) de R$ 20.00\n",
            " 0 cédula(s) de R$ 10.00\n",
            " 0 cédula(s) de R$ 5.00\n",
            " 1 cédula(s) de R$ 1.00\n"
          ],
          "name": "stdout"
        }
      ]
    },
    {
      "cell_type": "code",
      "metadata": {
        "colab": {
          "base_uri": "https://localhost:8080/"
        },
        "id": "E-Y4e2UEGnHm",
        "outputId": "29e01fe1-d724-4f63-d1e0-2eeed1f4f8a9"
      },
      "source": [
        " #5.18\n",
        "valor = int(input(\"Digite o valor a pagar: \")) \n",
        "cedulas= 0\n",
        "atual= 100\n",
        "apagar= valor\n",
        "while True: \n",
        "    if atual<= apagar: \n",
        "        apagar -= atual\n",
        "        cedulas+= 1\n",
        "    else: \n",
        "        print(\" %d cédula(s) de R$ %.2f\" %( cedulas, atual))\n",
        "        if apagar== 0: \n",
        "            break     \n",
        "        if atual== 100:       \n",
        "            atual= 50   \n",
        "        elif atual== 50: \n",
        "            atual= 20 \n",
        "        elif atual == 20: \n",
        "            atual= 10 \n",
        "        elif atual== 10: \n",
        "            atual = 5\n",
        "        elif atual== 5: \n",
        "            atual= 1 \n",
        "        cedulas= 0"
      ],
      "execution_count": null,
      "outputs": [
        {
          "output_type": "stream",
          "text": [
            "Digite o valor a pagar: 597\n",
            " 5 cédula(s) de R$ 100.00\n",
            " 1 cédula(s) de R$ 50.00\n",
            " 2 cédula(s) de R$ 20.00\n",
            " 0 cédula(s) de R$ 10.00\n",
            " 1 cédula(s) de R$ 5.00\n",
            " 2 cédula(s) de R$ 1.00\n"
          ],
          "name": "stdout"
        }
      ]
    },
    {
      "cell_type": "code",
      "metadata": {
        "id": "J-asgw5ZUlwz"
      },
      "source": [
        "tabuada = 1\r\n",
        "while tabuada <= 10:\r\n",
        "  num=1\r\n",
        "  while num<=10\r\n",
        "      print(\"f{tabuada} x {num} = {tabuada * num}\")\r\n",
        "      num+=1\r\n",
        "  tabuada+=1"
      ],
      "execution_count": null,
      "outputs": []
    }
  ]
}